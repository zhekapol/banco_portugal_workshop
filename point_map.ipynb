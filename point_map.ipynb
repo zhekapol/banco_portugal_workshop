{
 "cells": [
  {
   "cell_type": "code",
   "execution_count": 12,
   "metadata": {},
   "outputs": [
    {
     "data": {
      "application/vnd.plotly.v1+json": {
       "config": {
        "plotlyServerURL": "https://plot.ly"
       },
       "data": [
        {
         "lat": [
          41.979595,
          33.64044444,
          32.89595056,
          33.43416667,
          39.85840806,
          29.98047222,
          37.61900194,
          33.94253611,
          28.42888889,
          35.21401111,
          40.78838778,
          27.97547222,
          40.69249722,
          36.08036111,
          39.87195278,
          44.88054694,
          47.44898194,
          40.77724306,
          41.7859825,
          38.94453194,
          32.73355611,
          38.74768694,
          42.21205889,
          40.63975111,
          25.79325,
          42.3643475,
          38.69542167,
          39.17540167,
          33.67565861,
          29.99338889,
          37.36186194,
          38.85208333,
          45.58872222,
          26.53616667,
          26.68316194,
          35.87763889,
          29.64541861,
          29.53369444,
          26.07258333,
          39.29760528,
          37.72129083,
          40.49146583,
          35.04241667,
          42.94722222,
          41.41089417,
          30.49405556,
          32.11608333,
          39.71732917,
          39.49857611,
          35.39308833,
          41.72399917,
          36.19837222,
          39.04614278,
          39.99798528,
          38.17438889,
          34.056,
          34.72939611,
          32.84711389,
          41.30251861,
          36.89461111,
          39.90237583,
          43.11886611,
          36.28186944,
          36.12447667,
          35.04022222,
          32.31116667,
          31.80666667,
          37.50516667,
          41.93887417,
          31.94252778,
          30.53316083,
          35.81248722,
          38.80580556,
          30.47330556,
          43.11118694,
          33.56294306,
          42.93451639,
          33.82921556,
          27.39533333,
          27.77036083,
          34.6404475,
          33.93884,
          30.20527972,
          34.42621194,
          47.61985556,
          30.69141667,
          37.64995889,
          42.94052472,
          41.53493306,
          40.19349528,
          43.64616667,
          32.30064417,
          37.13189556,
          41.06695778,
          36.5869825,
          42.88081972,
          30.448674,
          32.65658333,
          39.22316,
          30.39652778,
          30.40728028,
          44.04532139,
          33.81772222,
          34.27061111,
          38.03697222,
          43.13985778,
          44.12326,
          32.12758333,
          33.66363889,
          41.88458833,
          34.89566722,
          36.09774694,
          40.7952425,
          41.44852639,
          35.43619444,
          40.91631194,
          40.47798556,
          26.22850611,
          30.48325,
          32.4466275,
          46.91934889,
          40.48118028,
          42.37422778,
          40.66424333,
          27.54373861,
          30.19453278,
          32.41132,
          37.24432611,
          42.96550333,
          36.47521417,
          31.06489778,
          32.89864639,
          44.48507333,
          44.25406722,
          32.51633333,
          41.70895361,
          43.56444444,
          33.67975,
          48.25937778,
          40.03925,
          37.32546833,
          39.64256778,
          43.60732417,
          45.77690139,
          39.1224125,
          34.20061917,
          38.03799139,
          38.53396333,
          43.51455556,
          36.77619444,
          39.84395194,
          26.17583333,
          40.50898361,
          47.949255,
          43.58135111,
          42.48180389,
          34.89924833,
          42.91130556,
          31.32133917,
          34.82916444,
          38.50886722,
          46.77411111,
          42.90835556,
          44.74144472,
          32.51086556,
          46.26468028,
          39.14096722,
          31.32737167,
          43.41713889,
          35.61677778,
          42.15614361,
          41.50409361,
          38.13863889,
          30.7825,
          44.77761917,
          35.65884306,
          40.97811528,
          31.25902778,
          40.85097222,
          40.97846583,
          44.52019417,
          37.06083333,
          35.23705806,
          41.33814944,
          33.45033444,
          44.34889806,
          35.07297222,
          33.369955,
          35.33659028,
          32.35413889,
          46.60681806,
          47.48200194,
          32.33313333,
          46.353639,
          37.95375861,
          35.03526833,
          46.37449806,
          37.70097028,
          42.74811944,
          44.47300361,
          48.31140472,
          28.10275,
          29.17991667,
          40.65236278,
          46.84209028,
          41.1557225,
          41.5942175,
          37.85830556,
          38.37315083,
          48.79275,
          37.62404861,
          44.25740806,
          36.385913,
          27.91076333,
          33.98879611,
          34.99147222,
          44.86525722,
          42.40295944,
          43.90882639,
          34.681499,
          45.8076625
         ],
         "lon": [
          -87.90446417,
          -84.42694444,
          -97.0372,
          -112.0080556,
          -104.6670019,
          -95.33972222,
          -122.3748433,
          -118.4080744,
          -81.31602778,
          -80.94312583,
          -111.9777731,
          -82.53325,
          -74.16866056,
          -115.1523333,
          -75.24114083,
          -93.2169225,
          -122.3093131,
          -73.87260917,
          -87.75242444,
          -77.45580972,
          -117.1896567,
          -90.35998972,
          -83.34883583,
          -73.77892556,
          -80.29055556,
          -71.00517917,
          -121.5907669,
          -76.66819833,
          -117.8682225,
          -90.25802778,
          -121.9290089,
          -77.03772222,
          -122.5975,
          -81.75516667,
          -80.09559417,
          -78.78747222,
          -95.27888889,
          -98.46977778,
          -80.15275,
          -94.71390556,
          -122.2207167,
          -80.23287083,
          -89.97666667,
          -87.89658333,
          -81.84939667,
          -81.68786111,
          -110.9410278,
          -86.29438417,
          -119.7680647,
          -97.60073389,
          -71.42822111,
          -95.88824167,
          -84.6621725,
          -82.89188278,
          -85.736,
          -117.6011944,
          -92.22424556,
          -96.85177222,
          -95.89417306,
          -76.20122222,
          -84.219375,
          -77.67238389,
          -94.30681111,
          -86.67818222,
          -106.6091944,
          -90.07588889,
          -106.3778056,
          -77.31966667,
          -72.68322833,
          -102.2019139,
          -91.14963444,
          -83.99285583,
          -104.70025,
          -87.18744444,
          -76.10631056,
          -86.75354972,
          -71.43705583,
          -116.5062531,
          -82.55411111,
          -97.50121528,
          -86.77310944,
          -81.11953944,
          -91.987655,
          -119.8403733,
          -117.5338425,
          -88.24283333,
          -97.43304583,
          -78.73216667,
          -93.66068222,
          -76.76340361,
          -70.30875,
          -86.39397611,
          -76.4929875,
          -73.70757444,
          -121.8429478,
          -85.52276778,
          -84.550781,
          -114.6059722,
          -106.868845,
          -84.35033333,
          -89.07009278,
          -103.0573708,
          -118.1516111,
          -77.90255556,
          -84.60538889,
          -89.33751361,
          -123.2186856,
          -81.20213889,
          -101.8227778,
          -91.71087222,
          -82.21885833,
          -79.9372975,
          -73.10021194,
          -90.50753917,
          -82.54180556,
          -81.44246556,
          -88.91595278,
          -97.65439389,
          -86.5254,
          -93.82559833,
          -96.81498889,
          -107.2176597,
          -122.8734978,
          -89.69330556,
          -99.46154361,
          -97.66987194,
          -99.68189722,
          -93.38685806,
          -83.74345639,
          -82.40742056,
          -97.82779778,
          -80.04050583,
          -88.12959,
          -121.1499633,
          -84.93886111,
          -86.31847417,
          -116.2227778,
          -78.92833333,
          -101.2803339,
          -88.27805556,
          -79.97542833,
          -106.9176953,
          -110.7377389,
          -111.1530072,
          -108.5267347,
          -118.3584969,
          -87.53062667,
          -106.9331817,
          -112.0701667,
          -119.7181389,
          -89.67761861,
          -98.23861111,
          -122.2934019,
          -97.17611111,
          -96.74170028,
          -114.4877356,
          -120.4575825,
          -112.5958611,
          -85.44962889,
          -77.61213778,
          -107.8938333,
          -100.7467222,
          -106.4644661,
          -85.582235,
          -92.03768778,
          -119.1190292,
          -96.67083278,
          -92.54855611,
          -124.2460278,
          -106.0881389,
          -121.7332081,
          -74.10483833,
          -78.45286111,
          -83.27672222,
          -89.66677944,
          -117.8295122,
          -124.1086189,
          -81.46630556,
          -96.75925,
          -85.19514639,
          -109.0237961,
          -88.77375,
          -120.6423931,
          -75.7242675,
          -88.59136861,
          -105.5393614,
          -77.04294444,
          -81.96449611,
          -94.36744111,
          -95.40238611,
          -111.9827503,
          -111.3706853,
          -88.75120556,
          -87.395361,
          -107.90848,
          -85.20378778,
          -117.0153944,
          -113.098575,
          -73.80297861,
          -73.1503125,
          -114.2550694,
          -80.64580556,
          -81.05805556,
          -75.44040167,
          -92.19364861,
          -104.8118381,
          -109.0651928,
          -80.39947222,
          -81.59318972,
          -122.5375278,
          -118.8377722,
          -88.51947556,
          -92.548828,
          -82.68743944,
          -98.49189333,
          -78.88,
          -91.48507194,
          -90.70916722,
          -92.49798722,
          -90.348816,
          -108.5428611
         ],
         "mode": "markers",
         "text": [
          "Chicago O'Hare InternationalChicago, ILArrivals: 25129",
          "William B Hartsfield-Atlanta IntlAtlanta, GAArrivals: 21925",
          "Dallas-Fort Worth InternationalDallas-Fort Worth, TXArrivals: 20662",
          "Phoenix Sky Harbor InternationalPhoenix, AZArrivals: 17290",
          "Denver IntlDenver, COArrivals: 13781",
          "George Bush IntercontinentalHouston, TXArrivals: 13223",
          "San Francisco InternationalSan Francisco, CAArrivals: 12016",
          "Los Angeles InternationalLos Angeles, CAArrivals: 11797",
          "Orlando InternationalOrlando, FLArrivals: 10536",
          "Charlotte/Douglas InternationalCharlotte, NCArrivals: 10490",
          "Salt Lake City IntlSalt Lake City, UTArrivals: 9898",
          "Tampa International Tampa, FLArrivals: 9182",
          "Newark IntlNewark, NJArrivals: 8678",
          "McCarran InternationalLas Vegas, NVArrivals: 8523",
          "Philadelphia IntlPhiladelphia, PAArrivals: 7965",
          "Minneapolis-St Paul IntlMinneapolis, MNArrivals: 7690",
          "Seattle-Tacoma IntlSeattle, WAArrivals: 7541",
          "LaGuardiaNew York, NYArrivals: 7392",
          "Chicago MidwayChicago, ILArrivals: 6979",
          "Washington Dulles InternationalChantilly, VAArrivals: 6779",
          "San Diego International-Lindbergh San Diego, CAArrivals: 6233",
          "Lambert-St Louis InternationalSt Louis, MOArrivals: 6204",
          "Detroit Metropolitan-Wayne CountyDetroit, MIArrivals: 6044",
          "John F Kennedy IntlNew York, NYArrivals: 5945",
          "Miami InternationalMiami, FLArrivals: 5907",
          "Gen Edw L Logan IntlBoston, MAArrivals: 5627",
          "Sacramento InternationalSacramento, CAArrivals: 4943",
          "Baltimore-Washington InternationalBaltimore, MDArrivals: 4749",
          "John Wayne /Orange CoSanta Ana, CAArrivals: 4616",
          "New Orleans International New Orleans, LAArrivals: 4432",
          "San Jose InternationalSan Jose, CAArrivals: 4367",
          "Ronald Reagan Washington NationalArlington, VAArrivals: 4332",
          "Portland IntlPortland, ORArrivals: 4071",
          "Southwest Florida InternationalFt. Myers, FLArrivals: 4057",
          "Palm Beach InternationalWest Palm Beach, FLArrivals: 3972",
          "Raleigh-Durham InternationalRaleigh, NCArrivals: 3896",
          "William P HobbyHouston, TXArrivals: 3824",
          "San Antonio InternationalSan Antonio, TXArrivals: 3654",
          "Fort Lauderdale-Hollywood Int'lFt. Lauderdale, FLArrivals: 3616",
          "Kansas City InternationalKansas City, MOArrivals: 3403",
          "Metropolitan Oakland InternationalOakland, CAArrivals: 3386",
          "Pittsburgh InternationalPittsburgh, PAArrivals: 3180",
          "Memphis InternationalMemphis, TNArrivals: 3058",
          "General Mitchell InternationalMilwaukee, WIArrivals: 3030",
          "Cleveland-Hopkins IntlCleveland, OHArrivals: 3015",
          "Jacksonville InternationalJacksonville, FLArrivals: 3005",
          "Tucson InternationalTucson, AZArrivals: 2786",
          "Indianapolis InternationalIndianapolis, INArrivals: 2136",
          "Reno/Tahoe InternationalReno, NVArrivals: 2104",
          "Will Rogers WorldOklahoma City, OKArrivals: 2104",
          "Theodore F Green StateProvidence, RIArrivals: 2044",
          "Tulsa InternationalTulsa, OKArrivals: 2003",
          "Cincinnati Northern Kentucky IntlCovington, KYArrivals: 1986",
          "Port Columbus IntlColumbus, OHArrivals: 1752",
          "Louisville International-Standiford Louisville, KYArrivals: 1716",
          "Ontario InternationalOntario, CAArrivals: 1622",
          "Adams Little Rock, ARArrivals: 1620",
          "Dallas Love Dallas, TXArrivals: 1502",
          "Eppley AirfieldOmaha, NEArrivals: 1474",
          "Norfolk InternationalNorfolk, VAArrivals: 1439",
          "James M Cox Dayton IntlDayton, OHArrivals: 1337",
          "Greater Rochester Int'lRochester, NYArrivals: 1327",
          "Northwest Arkansas RegionalFayetteville/Springdale/Rogers, ARArrivals: 1310",
          "Nashville InternationalNashville, TNArrivals: 1299",
          "Albuquerque InternationalAlbuquerque, NMArrivals: 1258",
          "Jackson InternationalJackson, MSArrivals: 1224",
          "El Paso InternationalEl Paso, TXArrivals: 1206",
          "Richmond InternationalRichmond, VAArrivals: 1199",
          "Bradley InternationalWindsor Locks, CTArrivals: 1162",
          "Midland InternationalMidland, TXArrivals: 1103",
          "Baton Rouge Metropolitan, Ryan Baton Rouge, LAArrivals: 1095",
          "McGhee-TysonKnoxville, TNArrivals: 1052",
          "City of Colorado Springs MuniColorado Springs, COArrivals: 1040",
          "Pensacola RegionalPensacola, FLArrivals: 1035",
          "Syracuse-Hancock IntlSyracuse, NYArrivals: 1006",
          "Birmingham InternationalBirmingham, ALArrivals: 956",
          "ManchesterManchester, NHArrivals: 953",
          "Palm Springs InternationalPalm Springs, CAArrivals: 949",
          "Sarasota Bradenton InternationalSarasota, FLArrivals: 932",
          "Corpus Christi InternationalCorpus Christi, TXArrivals: 926",
          "Huntsville International Huntsville, ALArrivals: 880",
          "Columbia MetropolitanColumbia, SCArrivals: 840",
          "Lafayette RegionalLafayette, LAArrivals: 818",
          "Santa Barbara MunicipalSanta Barbara, CAArrivals: 800",
          "Spokane IntlSpokane, WAArrivals: 785",
          "Mobile RegionalMobile, ALArrivals: 768",
          "Wichita Mid-ContinentWichita, KSArrivals: 747",
          "Buffalo Niagara IntlBuffalo, NYArrivals: 711",
          "Des Moines InternationalDes Moines, IAArrivals: 708",
          "Harrisburg IntlHarrisburg, PAArrivals: 702",
          "Portland International JetportPortland, MEArrivals: 686",
          "Montgomery Regional AptMontgomery, ALArrivals: 686",
          "Newport News/Williamsburg InternationalNewport News, VAArrivals: 675",
          "Westchester CtyWhite Plains, NYArrivals: 664",
          "Monterey PeninsulaMonterey, CAArrivals: 658",
          "Kent County InternationalGrand Rapids, MIArrivals: 656",
          "Florida BeachBeaches, FLArrivals: 653",
          "Yuma MCAS-Yuma InternationalYuma, AZArrivals: 627",
          "Aspen-Pitkin Co/Sardy Aspen, COArrivals: 611",
          "Tallahassee RegionalTallahassee, FLArrivals: 608",
          "Gulfport-Biloxi RegionalGulfport-Biloxi, MSArrivals: 582",
          "Rapid City RegionalRapid City, SDArrivals: 572",
          "Long Beach (Daugherty )Long Beach, CAArrivals: 562",
          "Wilmington InternationalWilmington, NCArrivals: 553",
          "Blue Grass Lexington, KYArrivals: 540",
          "Dane County RegionalMadison, WIArrivals: 538",
          "Mahlon Sweet Eugene, ORArrivals: 529",
          "Savannah InternationalSavannah, GAArrivals: 524",
          "Lubbock InternationalLubbock, TXArrivals: 518",
          "Eastern Iowa Cedar Rapids, IAArrivals: 516",
          "Greenville-SpartanburgGreer, SCArrivals: 479",
          "Piedmont Triad InternationalGreensboro, NCArrivals: 472",
          "Long Island - MacArthurIslip, NYArrivals: 460",
          "Quad CityMoline, ILArrivals: 451",
          "Asheville RegionalAsheville, NCArrivals: 448",
          "Akron-Canton RegionalAkron, OHArrivals: 445",
          "Central Illinois RegionalBloomington, ILArrivals: 426",
          "Valley InternationalHarlingen, TXArrivals: 414",
          "Eglin Air Force BaseValparaiso, FLArrivals: 410",
          "Shreveport RegionalShreveport, LAArrivals: 410",
          "Hector InternationalFargo, NDArrivals: 409",
          "Yampa ValleyHayden, COArrivals: 408",
          "Rogue Valley InternationalMedford, ORArrivals: 404",
          "Greater Peoria RegionalPeoria, ILArrivals: 404",
          "Laredo InternationalLaredo, TXArrivals: 396",
          "Austin-Bergstrom InternationalAustin, TXArrivals: 393",
          "Abilene RegionalAbilene, TXArrivals: 382",
          "Springfield-Branson RegionalSpringfield, MOArrivals: 381",
          "BishopFlint, MIArrivals: 379",
          "Tri-Cities RegionalBristol, TNArrivals: 347",
          "Robert Gray AAFKilleen, TXArrivals: 346",
          "Charleston AFB/InternationalCharleston, SCArrivals: 338",
          "Austin Straubel InternationalGreen Bay, WIArrivals: 333",
          "Roberts Redmond, ORArrivals: 328",
          "Columbus MetropolitanColumbus, GAArrivals: 324",
          "South Bend RegionalSouth Bend, INArrivals: 324",
          "Boise Air TerminalBoise, IDArrivals: 319",
          "Myrtle Beach InternationalMyrtle Beach, SCArrivals: 314",
          "Minot InternationalMinot, NDArrivals: 310",
          "University of Illinois-WillardChampaign/Urbana, ILArrivals: 306",
          "Roanoke Regional/ Woodrum Roanoke, VAArrivals: 301",
          "Eagle County RegionalEagle, COArrivals: 296",
          "Jackson HoleJackson, WYArrivals: 295",
          "Gallatin Bozeman, MTArrivals: 288",
          "Walker Grand Junction, COArrivals: 285",
          "Burbank-Glendale-PasadenaBurbank, CAArrivals: 280",
          "Evansville RegionalEvansville, INArrivals: 270",
          "Gunnison CountyGunnison, COArrivals: 270",
          "Idaho Falls RegionalIdaho Falls, IDArrivals: 264",
          "Fresno Yosemite InternationalFresno, CAArrivals: 264",
          "CapitalSpringfield, ILArrivals: 258",
          "McAllen Miller InternationalMcAllen, TXArrivals: 248",
          "Redding MunicipalRedding, CAArrivals: 248",
          "Grand Forks InternationalGrand Forks, NDArrivals: 246",
          "Joe Foss Sioux Falls, SDArrivals: 245",
          "Joslin Field - Magic ValleyTwin Falls, IDArrivals: 225",
          "Santa Maria Pub/Capt G Allan Hancock Santa Maria, CAArrivals: 216",
          "Pocatello RegionalPocatello, IDArrivals: 216",
          "Dothan Dothan, ALArrivals: 214",
          "Albert J EllisJacksonville, NCArrivals: 212",
          "Montrose RegionalMontrose, COArrivals: 210",
          "Bismarck MunicipalBismarck, NDArrivals: 208",
          "Natrona County IntlCasper, WYArrivals: 208",
          "Cherry CapitalTraverse City, MIArrivals: 201",
          "Monroe RegionalMonroe, LAArrivals: 199",
          "Tri-CitiesPasco, WAArrivals: 168",
          "Manhattan RegionalManhattan, KSArrivals: 168",
          "Alexandria InternationalAlexandria, LAArrivals: 168",
          "North Bend MuniNorth Bend, ORArrivals: 168",
          "Santa Fe MunicipalSanta Fe, NMArrivals: 168",
          "Klamath Falls InternationalKlamath Falls, ORArrivals: 168",
          "StewartNewburgh, NYArrivals: 159",
          "Charlottesville-AlbermarleCharlottesville, VAArrivals: 158",
          "Valdosta RegionalValdosta, GAArrivals: 158",
          "Central WisconsinMosinee, WIArrivals: 156",
          "InyokernInyokern, CAArrivals: 146",
          "ArcataArcata/Eureka, CAArrivals: 144",
          "Glynco JetportBrunswick, GAArrivals: 140",
          "Lincoln MunicipalLincoln, NEArrivals: 127",
          "Fort Wayne InternationalFort Wayne, INArrivals: 114",
          "Yellowstone RegionalCody, WYArrivals: 112",
          "Barkley RegionalPaducah, KYArrivals: 112",
          "San Luis Obispo Co-McChesney San Luis Obispo, CAArrivals: 112",
          "Wilkes-Barre/Scranton IntlWilkes-Barre/Scranton, PAArrivals: 112",
          "Golden Triangle RegionalColumbus-Starkville-West Point, MSArrivals: 112",
          "Gillette-Campbell CountyGillette, WYArrivals: 112",
          "Craven County RegionalNew Bern, NCArrivals: 112",
          "Bush Augusta, GAArrivals: 112",
          "Fort Smith RegionalFort Smith, ARArrivals: 112",
          "Tyler Pounds Tyler, TXArrivals: 110",
          "Helena RegionalHelena, MTArrivals: 108",
          "Great Falls IntlGreat Falls, MTArrivals: 108",
          "Key Meridian, MSArrivals: 104",
          null,
          "Telluride RegionalTelluride, COArrivals: 104",
          "Lovell Chattanooga, TNArrivals: 104",
          "Lewiston-Nez Perce CountyLewiston, IDArrivals: 102",
          "Cedar City MuniCedar City, UTArrivals: 96",
          "Albany CtyAlbany, NYArrivals: 93",
          "Burlington InternationalBurlington, VTArrivals: 91",
          "Glacier Park IntlKalispell, MTArrivals: 90",
          "Melbourne International Melbourne, FLArrivals: 74",
          "Daytona Beach InternationalDaytona Beach, FLArrivals: 72",
          "Lehigh Valley InternationalAllentown, PAArrivals: 60",
          "Duluth InternationalDuluth, MNArrivals: 58",
          "CheyenneCheyenne, WYArrivals: 56",
          "Rock Springs-Sweetwater CountyRock Springs, WYArrivals: 56",
          "Greenbrier ValleyLewisburg, WVArrivals: 56",
          "YeagerCharleston, WVArrivals: 56",
          "Bellingham IntlBellingham, WAArrivals: 56",
          "Mammoth YosemiteMammoth Lakes, CAArrivals: 56",
          "Outagamie County RegionalAppleton, WIArrivals: 56",
          "Branson AirportHollister, MOArrivals: 56",
          "St. Petersburg-Clearwater InternationalSt. Petersburg, FLArrivals: 52",
          "Sheppard AFB/Wichita Falls MunicipalWichita Falls, TXArrivals: 50",
          "Fayetteville MunicipalFayetteville, NCArrivals: 50",
          "Chippewa Valley RegionalEau Claire, WIArrivals: 48",
          "Dubuque MunicipalDubuque, IAArrivals: 48",
          "Rochester InternationalRochester, MNArrivals: 37",
          "Tunica Municipal AirportTunica, MSArrivals: 32",
          "Billings Logan IntlBillings, MTArrivals: 23"
         ],
         "type": "scattergeo"
        }
       ],
       "layout": {
        "geo": {
         "scope": "usa"
        },
        "template": {
         "data": {
          "bar": [
           {
            "error_x": {
             "color": "#2a3f5f"
            },
            "error_y": {
             "color": "#2a3f5f"
            },
            "marker": {
             "line": {
              "color": "#E5ECF6",
              "width": 0.5
             },
             "pattern": {
              "fillmode": "overlay",
              "size": 10,
              "solidity": 0.2
             }
            },
            "type": "bar"
           }
          ],
          "barpolar": [
           {
            "marker": {
             "line": {
              "color": "#E5ECF6",
              "width": 0.5
             },
             "pattern": {
              "fillmode": "overlay",
              "size": 10,
              "solidity": 0.2
             }
            },
            "type": "barpolar"
           }
          ],
          "carpet": [
           {
            "aaxis": {
             "endlinecolor": "#2a3f5f",
             "gridcolor": "white",
             "linecolor": "white",
             "minorgridcolor": "white",
             "startlinecolor": "#2a3f5f"
            },
            "baxis": {
             "endlinecolor": "#2a3f5f",
             "gridcolor": "white",
             "linecolor": "white",
             "minorgridcolor": "white",
             "startlinecolor": "#2a3f5f"
            },
            "type": "carpet"
           }
          ],
          "choropleth": [
           {
            "colorbar": {
             "outlinewidth": 0,
             "ticks": ""
            },
            "type": "choropleth"
           }
          ],
          "contour": [
           {
            "colorbar": {
             "outlinewidth": 0,
             "ticks": ""
            },
            "colorscale": [
             [
              0,
              "#0d0887"
             ],
             [
              0.1111111111111111,
              "#46039f"
             ],
             [
              0.2222222222222222,
              "#7201a8"
             ],
             [
              0.3333333333333333,
              "#9c179e"
             ],
             [
              0.4444444444444444,
              "#bd3786"
             ],
             [
              0.5555555555555556,
              "#d8576b"
             ],
             [
              0.6666666666666666,
              "#ed7953"
             ],
             [
              0.7777777777777778,
              "#fb9f3a"
             ],
             [
              0.8888888888888888,
              "#fdca26"
             ],
             [
              1,
              "#f0f921"
             ]
            ],
            "type": "contour"
           }
          ],
          "contourcarpet": [
           {
            "colorbar": {
             "outlinewidth": 0,
             "ticks": ""
            },
            "type": "contourcarpet"
           }
          ],
          "heatmap": [
           {
            "colorbar": {
             "outlinewidth": 0,
             "ticks": ""
            },
            "colorscale": [
             [
              0,
              "#0d0887"
             ],
             [
              0.1111111111111111,
              "#46039f"
             ],
             [
              0.2222222222222222,
              "#7201a8"
             ],
             [
              0.3333333333333333,
              "#9c179e"
             ],
             [
              0.4444444444444444,
              "#bd3786"
             ],
             [
              0.5555555555555556,
              "#d8576b"
             ],
             [
              0.6666666666666666,
              "#ed7953"
             ],
             [
              0.7777777777777778,
              "#fb9f3a"
             ],
             [
              0.8888888888888888,
              "#fdca26"
             ],
             [
              1,
              "#f0f921"
             ]
            ],
            "type": "heatmap"
           }
          ],
          "heatmapgl": [
           {
            "colorbar": {
             "outlinewidth": 0,
             "ticks": ""
            },
            "colorscale": [
             [
              0,
              "#0d0887"
             ],
             [
              0.1111111111111111,
              "#46039f"
             ],
             [
              0.2222222222222222,
              "#7201a8"
             ],
             [
              0.3333333333333333,
              "#9c179e"
             ],
             [
              0.4444444444444444,
              "#bd3786"
             ],
             [
              0.5555555555555556,
              "#d8576b"
             ],
             [
              0.6666666666666666,
              "#ed7953"
             ],
             [
              0.7777777777777778,
              "#fb9f3a"
             ],
             [
              0.8888888888888888,
              "#fdca26"
             ],
             [
              1,
              "#f0f921"
             ]
            ],
            "type": "heatmapgl"
           }
          ],
          "histogram": [
           {
            "marker": {
             "pattern": {
              "fillmode": "overlay",
              "size": 10,
              "solidity": 0.2
             }
            },
            "type": "histogram"
           }
          ],
          "histogram2d": [
           {
            "colorbar": {
             "outlinewidth": 0,
             "ticks": ""
            },
            "colorscale": [
             [
              0,
              "#0d0887"
             ],
             [
              0.1111111111111111,
              "#46039f"
             ],
             [
              0.2222222222222222,
              "#7201a8"
             ],
             [
              0.3333333333333333,
              "#9c179e"
             ],
             [
              0.4444444444444444,
              "#bd3786"
             ],
             [
              0.5555555555555556,
              "#d8576b"
             ],
             [
              0.6666666666666666,
              "#ed7953"
             ],
             [
              0.7777777777777778,
              "#fb9f3a"
             ],
             [
              0.8888888888888888,
              "#fdca26"
             ],
             [
              1,
              "#f0f921"
             ]
            ],
            "type": "histogram2d"
           }
          ],
          "histogram2dcontour": [
           {
            "colorbar": {
             "outlinewidth": 0,
             "ticks": ""
            },
            "colorscale": [
             [
              0,
              "#0d0887"
             ],
             [
              0.1111111111111111,
              "#46039f"
             ],
             [
              0.2222222222222222,
              "#7201a8"
             ],
             [
              0.3333333333333333,
              "#9c179e"
             ],
             [
              0.4444444444444444,
              "#bd3786"
             ],
             [
              0.5555555555555556,
              "#d8576b"
             ],
             [
              0.6666666666666666,
              "#ed7953"
             ],
             [
              0.7777777777777778,
              "#fb9f3a"
             ],
             [
              0.8888888888888888,
              "#fdca26"
             ],
             [
              1,
              "#f0f921"
             ]
            ],
            "type": "histogram2dcontour"
           }
          ],
          "mesh3d": [
           {
            "colorbar": {
             "outlinewidth": 0,
             "ticks": ""
            },
            "type": "mesh3d"
           }
          ],
          "parcoords": [
           {
            "line": {
             "colorbar": {
              "outlinewidth": 0,
              "ticks": ""
             }
            },
            "type": "parcoords"
           }
          ],
          "pie": [
           {
            "automargin": true,
            "type": "pie"
           }
          ],
          "scatter": [
           {
            "fillpattern": {
             "fillmode": "overlay",
             "size": 10,
             "solidity": 0.2
            },
            "type": "scatter"
           }
          ],
          "scatter3d": [
           {
            "line": {
             "colorbar": {
              "outlinewidth": 0,
              "ticks": ""
             }
            },
            "marker": {
             "colorbar": {
              "outlinewidth": 0,
              "ticks": ""
             }
            },
            "type": "scatter3d"
           }
          ],
          "scattercarpet": [
           {
            "marker": {
             "colorbar": {
              "outlinewidth": 0,
              "ticks": ""
             }
            },
            "type": "scattercarpet"
           }
          ],
          "scattergeo": [
           {
            "marker": {
             "colorbar": {
              "outlinewidth": 0,
              "ticks": ""
             }
            },
            "type": "scattergeo"
           }
          ],
          "scattergl": [
           {
            "marker": {
             "colorbar": {
              "outlinewidth": 0,
              "ticks": ""
             }
            },
            "type": "scattergl"
           }
          ],
          "scattermapbox": [
           {
            "marker": {
             "colorbar": {
              "outlinewidth": 0,
              "ticks": ""
             }
            },
            "type": "scattermapbox"
           }
          ],
          "scatterpolar": [
           {
            "marker": {
             "colorbar": {
              "outlinewidth": 0,
              "ticks": ""
             }
            },
            "type": "scatterpolar"
           }
          ],
          "scatterpolargl": [
           {
            "marker": {
             "colorbar": {
              "outlinewidth": 0,
              "ticks": ""
             }
            },
            "type": "scatterpolargl"
           }
          ],
          "scatterternary": [
           {
            "marker": {
             "colorbar": {
              "outlinewidth": 0,
              "ticks": ""
             }
            },
            "type": "scatterternary"
           }
          ],
          "surface": [
           {
            "colorbar": {
             "outlinewidth": 0,
             "ticks": ""
            },
            "colorscale": [
             [
              0,
              "#0d0887"
             ],
             [
              0.1111111111111111,
              "#46039f"
             ],
             [
              0.2222222222222222,
              "#7201a8"
             ],
             [
              0.3333333333333333,
              "#9c179e"
             ],
             [
              0.4444444444444444,
              "#bd3786"
             ],
             [
              0.5555555555555556,
              "#d8576b"
             ],
             [
              0.6666666666666666,
              "#ed7953"
             ],
             [
              0.7777777777777778,
              "#fb9f3a"
             ],
             [
              0.8888888888888888,
              "#fdca26"
             ],
             [
              1,
              "#f0f921"
             ]
            ],
            "type": "surface"
           }
          ],
          "table": [
           {
            "cells": {
             "fill": {
              "color": "#EBF0F8"
             },
             "line": {
              "color": "white"
             }
            },
            "header": {
             "fill": {
              "color": "#C8D4E3"
             },
             "line": {
              "color": "white"
             }
            },
            "type": "table"
           }
          ]
         },
         "layout": {
          "annotationdefaults": {
           "arrowcolor": "#2a3f5f",
           "arrowhead": 0,
           "arrowwidth": 1
          },
          "autotypenumbers": "strict",
          "coloraxis": {
           "colorbar": {
            "outlinewidth": 0,
            "ticks": ""
           }
          },
          "colorscale": {
           "diverging": [
            [
             0,
             "#8e0152"
            ],
            [
             0.1,
             "#c51b7d"
            ],
            [
             0.2,
             "#de77ae"
            ],
            [
             0.3,
             "#f1b6da"
            ],
            [
             0.4,
             "#fde0ef"
            ],
            [
             0.5,
             "#f7f7f7"
            ],
            [
             0.6,
             "#e6f5d0"
            ],
            [
             0.7,
             "#b8e186"
            ],
            [
             0.8,
             "#7fbc41"
            ],
            [
             0.9,
             "#4d9221"
            ],
            [
             1,
             "#276419"
            ]
           ],
           "sequential": [
            [
             0,
             "#0d0887"
            ],
            [
             0.1111111111111111,
             "#46039f"
            ],
            [
             0.2222222222222222,
             "#7201a8"
            ],
            [
             0.3333333333333333,
             "#9c179e"
            ],
            [
             0.4444444444444444,
             "#bd3786"
            ],
            [
             0.5555555555555556,
             "#d8576b"
            ],
            [
             0.6666666666666666,
             "#ed7953"
            ],
            [
             0.7777777777777778,
             "#fb9f3a"
            ],
            [
             0.8888888888888888,
             "#fdca26"
            ],
            [
             1,
             "#f0f921"
            ]
           ],
           "sequentialminus": [
            [
             0,
             "#0d0887"
            ],
            [
             0.1111111111111111,
             "#46039f"
            ],
            [
             0.2222222222222222,
             "#7201a8"
            ],
            [
             0.3333333333333333,
             "#9c179e"
            ],
            [
             0.4444444444444444,
             "#bd3786"
            ],
            [
             0.5555555555555556,
             "#d8576b"
            ],
            [
             0.6666666666666666,
             "#ed7953"
            ],
            [
             0.7777777777777778,
             "#fb9f3a"
            ],
            [
             0.8888888888888888,
             "#fdca26"
            ],
            [
             1,
             "#f0f921"
            ]
           ]
          },
          "colorway": [
           "#636efa",
           "#EF553B",
           "#00cc96",
           "#ab63fa",
           "#FFA15A",
           "#19d3f3",
           "#FF6692",
           "#B6E880",
           "#FF97FF",
           "#FECB52"
          ],
          "font": {
           "color": "#2a3f5f"
          },
          "geo": {
           "bgcolor": "white",
           "lakecolor": "white",
           "landcolor": "#E5ECF6",
           "showlakes": true,
           "showland": true,
           "subunitcolor": "white"
          },
          "hoverlabel": {
           "align": "left"
          },
          "hovermode": "closest",
          "mapbox": {
           "style": "light"
          },
          "paper_bgcolor": "white",
          "plot_bgcolor": "#E5ECF6",
          "polar": {
           "angularaxis": {
            "gridcolor": "white",
            "linecolor": "white",
            "ticks": ""
           },
           "bgcolor": "#E5ECF6",
           "radialaxis": {
            "gridcolor": "white",
            "linecolor": "white",
            "ticks": ""
           }
          },
          "scene": {
           "xaxis": {
            "backgroundcolor": "#E5ECF6",
            "gridcolor": "white",
            "gridwidth": 2,
            "linecolor": "white",
            "showbackground": true,
            "ticks": "",
            "zerolinecolor": "white"
           },
           "yaxis": {
            "backgroundcolor": "#E5ECF6",
            "gridcolor": "white",
            "gridwidth": 2,
            "linecolor": "white",
            "showbackground": true,
            "ticks": "",
            "zerolinecolor": "white"
           },
           "zaxis": {
            "backgroundcolor": "#E5ECF6",
            "gridcolor": "white",
            "gridwidth": 2,
            "linecolor": "white",
            "showbackground": true,
            "ticks": "",
            "zerolinecolor": "white"
           }
          },
          "shapedefaults": {
           "line": {
            "color": "#2a3f5f"
           }
          },
          "ternary": {
           "aaxis": {
            "gridcolor": "white",
            "linecolor": "white",
            "ticks": ""
           },
           "baxis": {
            "gridcolor": "white",
            "linecolor": "white",
            "ticks": ""
           },
           "bgcolor": "#E5ECF6",
           "caxis": {
            "gridcolor": "white",
            "linecolor": "white",
            "ticks": ""
           }
          },
          "title": {
           "x": 0.05
          },
          "xaxis": {
           "automargin": true,
           "gridcolor": "white",
           "linecolor": "white",
           "ticks": "",
           "title": {
            "standoff": 15
           },
           "zerolinecolor": "white",
           "zerolinewidth": 2
          },
          "yaxis": {
           "automargin": true,
           "gridcolor": "white",
           "linecolor": "white",
           "ticks": "",
           "title": {
            "standoff": 15
           },
           "zerolinecolor": "white",
           "zerolinewidth": 2
          }
         }
        },
        "title": {
         "text": "Most trafficked US airports<br>(Hover for airport names)"
        }
       }
      }
     },
     "metadata": {},
     "output_type": "display_data"
    }
   ],
   "source": [
    "# Dot map\n",
    "\n",
    "import plotly.graph_objects as go\n",
    "import pandas as pd\n",
    "\n",
    "# Exemplo adotado do https://plotly.com/python/scatter-plots-on-maps/\n",
    "\n",
    "# Data should have lat lon columns\n",
    "df = pd.read_csv('https://raw.githubusercontent.com/plotly/datasets/master/2011_february_us_airport_traffic.csv')\n",
    "df['text'] = df['airport'] + '' + df['city'] + ', ' + df['state'] + '' + 'Arrivals: ' + df['cnt'].astype(str)\n",
    "\n",
    "fig = go.Figure(data=go.Scattergeo(\n",
    "        lon = df['long'],\n",
    "        lat = df['lat'],\n",
    "        text = df['text'],\n",
    "        mode = 'markers',\n",
    "        #marker_color = df['cnt'],\n",
    "))\n",
    "\n",
    "fig.update_layout(\n",
    "        title = 'Most trafficked US airports<br>(Hover for airport names)',\n",
    "        geo_scope='usa',\n",
    "    )\n",
    "fig.show()"
   ]
  },
  {
   "cell_type": "code",
   "execution_count": 30,
   "metadata": {},
   "outputs": [
    {
     "data": {
      "application/vnd.plotly.v1+json": {
       "config": {
        "plotlyServerURL": "https://plot.ly"
       },
       "data": [
        {
         "geo": "geo",
         "hovertemplate": "pop=%{marker.size}<br>iso_alpha=%{location}<extra></extra>",
         "legendgroup": "",
         "locations": [
          "AFG",
          "ALB",
          "DZA",
          "AGO",
          "ARG",
          "AUS",
          "AUT",
          "BHR",
          "BGD",
          "BEL",
          "BEN",
          "BOL",
          "BIH",
          "BWA",
          "BRA",
          "BGR",
          "BFA",
          "BDI",
          "KHM",
          "CMR",
          "CAN",
          "CAF",
          "TCD",
          "CHL",
          "CHN",
          "COL",
          "COM",
          "COD",
          "COG",
          "CRI",
          "CIV",
          "HRV",
          "CUB",
          "CZE",
          "DNK",
          "DJI",
          "DOM",
          "ECU",
          "EGY",
          "SLV",
          "GNQ",
          "ERI",
          "ETH",
          "FIN",
          "FRA",
          "GAB",
          "GMB",
          "DEU",
          "GHA",
          "GRC",
          "GTM",
          "GIN",
          "GNB",
          "HTI",
          "HND",
          "HKG",
          "HUN",
          "ISL",
          "IND",
          "IDN",
          "IRN",
          "IRQ",
          "IRL",
          "ISR",
          "ITA",
          "JAM",
          "JPN",
          "JOR",
          "KEN",
          "KOR",
          "KOR",
          "KWT",
          "LBN",
          "LSO",
          "LBR",
          "LBY",
          "MDG",
          "MWI",
          "MYS",
          "MLI",
          "MRT",
          "MUS",
          "MEX",
          "MNG",
          "MNE",
          "MAR",
          "MOZ",
          "MMR",
          "NAM",
          "NPL",
          "NLD",
          "NZL",
          "NIC",
          "NER",
          "NGA",
          "NOR",
          "OMN",
          "PAK",
          "PAN",
          "PRY",
          "PER",
          "PHL",
          "POL",
          "PRT",
          "PRI",
          "REU",
          "ROU",
          "RWA",
          "STP",
          "SAU",
          "SEN",
          "SRB",
          "SLE",
          "SGP",
          "SVK",
          "SVN",
          "SOM",
          "ZAF",
          "ESP",
          "LKA",
          "SDN",
          "SWZ",
          "SWE",
          "CHE",
          "SYR",
          "TWN",
          "TZA",
          "THA",
          "TGO",
          "TTO",
          "TUN",
          "TUR",
          "UGA",
          "GBR",
          "USA",
          "URY",
          "VEN",
          "VNM",
          "PSE",
          "YEM",
          "ZMB",
          "ZWE"
         ],
         "marker": {
          "color": "#636efa",
          "size": [
           31889923,
           3600523,
           33333216,
           12420476,
           40301927,
           20434176,
           8199783,
           708573,
           150448339,
           10392226,
           8078314,
           9119152,
           4552198,
           1639131,
           190010647,
           7322858,
           14326203,
           8390505,
           14131858,
           17696293,
           33390141,
           4369038,
           10238807,
           16284741,
           1318683096,
           44227550,
           710960,
           64606759,
           3800610,
           4133884,
           18013409,
           4493312,
           11416987,
           10228744,
           5468120,
           496374,
           9319622,
           13755680,
           80264543,
           6939688,
           551201,
           4906585,
           76511887,
           5238460,
           61083916,
           1454867,
           1688359,
           82400996,
           22873338,
           10706290,
           12572928,
           9947814,
           1472041,
           8502814,
           7483763,
           6980412,
           9956108,
           301931,
           1110396331,
           223547000,
           69453570,
           27499638,
           4109086,
           6426679,
           58147733,
           2780132,
           127467972,
           6053193,
           35610177,
           23301725,
           49044790,
           2505559,
           3921278,
           2012649,
           3193942,
           6036914,
           19167654,
           13327079,
           24821286,
           12031795,
           3270065,
           1250882,
           108700891,
           2874127,
           684736,
           33757175,
           19951656,
           47761980,
           2055080,
           28901790,
           16570613,
           4115771,
           5675356,
           12894865,
           135031164,
           4627926,
           3204897,
           169270617,
           3242173,
           6667147,
           28674757,
           91077287,
           38518241,
           10642836,
           3942491,
           798094,
           22276056,
           8860588,
           199579,
           27601038,
           12267493,
           10150265,
           6144562,
           4553009,
           5447502,
           2009245,
           9118773,
           43997828,
           40448191,
           20378239,
           42292929,
           1133066,
           9031088,
           7554661,
           19314747,
           23174294,
           38139640,
           65068149,
           5701579,
           1056608,
           10276158,
           71158647,
           29170398,
           60776238,
           301139947,
           3447496,
           26084662,
           85262356,
           4018332,
           22211743,
           11746035,
           12311143
          ],
          "sizemode": "area",
          "sizeref": 3296707.74,
          "symbol": "circle"
         },
         "mode": "markers",
         "name": "",
         "showlegend": false,
         "type": "scattergeo"
        }
       ],
       "layout": {
        "geo": {
         "center": {},
         "domain": {
          "x": [
           0,
           1
          ],
          "y": [
           0,
           1
          ]
         }
        },
        "legend": {
         "itemsizing": "constant",
         "tracegroupgap": 0
        },
        "margin": {
         "b": 0,
         "l": 0,
         "r": 0,
         "t": 0
        },
        "template": {
         "data": {
          "bar": [
           {
            "error_x": {
             "color": "#2a3f5f"
            },
            "error_y": {
             "color": "#2a3f5f"
            },
            "marker": {
             "line": {
              "color": "#E5ECF6",
              "width": 0.5
             },
             "pattern": {
              "fillmode": "overlay",
              "size": 10,
              "solidity": 0.2
             }
            },
            "type": "bar"
           }
          ],
          "barpolar": [
           {
            "marker": {
             "line": {
              "color": "#E5ECF6",
              "width": 0.5
             },
             "pattern": {
              "fillmode": "overlay",
              "size": 10,
              "solidity": 0.2
             }
            },
            "type": "barpolar"
           }
          ],
          "carpet": [
           {
            "aaxis": {
             "endlinecolor": "#2a3f5f",
             "gridcolor": "white",
             "linecolor": "white",
             "minorgridcolor": "white",
             "startlinecolor": "#2a3f5f"
            },
            "baxis": {
             "endlinecolor": "#2a3f5f",
             "gridcolor": "white",
             "linecolor": "white",
             "minorgridcolor": "white",
             "startlinecolor": "#2a3f5f"
            },
            "type": "carpet"
           }
          ],
          "choropleth": [
           {
            "colorbar": {
             "outlinewidth": 0,
             "ticks": ""
            },
            "type": "choropleth"
           }
          ],
          "contour": [
           {
            "colorbar": {
             "outlinewidth": 0,
             "ticks": ""
            },
            "colorscale": [
             [
              0,
              "#0d0887"
             ],
             [
              0.1111111111111111,
              "#46039f"
             ],
             [
              0.2222222222222222,
              "#7201a8"
             ],
             [
              0.3333333333333333,
              "#9c179e"
             ],
             [
              0.4444444444444444,
              "#bd3786"
             ],
             [
              0.5555555555555556,
              "#d8576b"
             ],
             [
              0.6666666666666666,
              "#ed7953"
             ],
             [
              0.7777777777777778,
              "#fb9f3a"
             ],
             [
              0.8888888888888888,
              "#fdca26"
             ],
             [
              1,
              "#f0f921"
             ]
            ],
            "type": "contour"
           }
          ],
          "contourcarpet": [
           {
            "colorbar": {
             "outlinewidth": 0,
             "ticks": ""
            },
            "type": "contourcarpet"
           }
          ],
          "heatmap": [
           {
            "colorbar": {
             "outlinewidth": 0,
             "ticks": ""
            },
            "colorscale": [
             [
              0,
              "#0d0887"
             ],
             [
              0.1111111111111111,
              "#46039f"
             ],
             [
              0.2222222222222222,
              "#7201a8"
             ],
             [
              0.3333333333333333,
              "#9c179e"
             ],
             [
              0.4444444444444444,
              "#bd3786"
             ],
             [
              0.5555555555555556,
              "#d8576b"
             ],
             [
              0.6666666666666666,
              "#ed7953"
             ],
             [
              0.7777777777777778,
              "#fb9f3a"
             ],
             [
              0.8888888888888888,
              "#fdca26"
             ],
             [
              1,
              "#f0f921"
             ]
            ],
            "type": "heatmap"
           }
          ],
          "heatmapgl": [
           {
            "colorbar": {
             "outlinewidth": 0,
             "ticks": ""
            },
            "colorscale": [
             [
              0,
              "#0d0887"
             ],
             [
              0.1111111111111111,
              "#46039f"
             ],
             [
              0.2222222222222222,
              "#7201a8"
             ],
             [
              0.3333333333333333,
              "#9c179e"
             ],
             [
              0.4444444444444444,
              "#bd3786"
             ],
             [
              0.5555555555555556,
              "#d8576b"
             ],
             [
              0.6666666666666666,
              "#ed7953"
             ],
             [
              0.7777777777777778,
              "#fb9f3a"
             ],
             [
              0.8888888888888888,
              "#fdca26"
             ],
             [
              1,
              "#f0f921"
             ]
            ],
            "type": "heatmapgl"
           }
          ],
          "histogram": [
           {
            "marker": {
             "pattern": {
              "fillmode": "overlay",
              "size": 10,
              "solidity": 0.2
             }
            },
            "type": "histogram"
           }
          ],
          "histogram2d": [
           {
            "colorbar": {
             "outlinewidth": 0,
             "ticks": ""
            },
            "colorscale": [
             [
              0,
              "#0d0887"
             ],
             [
              0.1111111111111111,
              "#46039f"
             ],
             [
              0.2222222222222222,
              "#7201a8"
             ],
             [
              0.3333333333333333,
              "#9c179e"
             ],
             [
              0.4444444444444444,
              "#bd3786"
             ],
             [
              0.5555555555555556,
              "#d8576b"
             ],
             [
              0.6666666666666666,
              "#ed7953"
             ],
             [
              0.7777777777777778,
              "#fb9f3a"
             ],
             [
              0.8888888888888888,
              "#fdca26"
             ],
             [
              1,
              "#f0f921"
             ]
            ],
            "type": "histogram2d"
           }
          ],
          "histogram2dcontour": [
           {
            "colorbar": {
             "outlinewidth": 0,
             "ticks": ""
            },
            "colorscale": [
             [
              0,
              "#0d0887"
             ],
             [
              0.1111111111111111,
              "#46039f"
             ],
             [
              0.2222222222222222,
              "#7201a8"
             ],
             [
              0.3333333333333333,
              "#9c179e"
             ],
             [
              0.4444444444444444,
              "#bd3786"
             ],
             [
              0.5555555555555556,
              "#d8576b"
             ],
             [
              0.6666666666666666,
              "#ed7953"
             ],
             [
              0.7777777777777778,
              "#fb9f3a"
             ],
             [
              0.8888888888888888,
              "#fdca26"
             ],
             [
              1,
              "#f0f921"
             ]
            ],
            "type": "histogram2dcontour"
           }
          ],
          "mesh3d": [
           {
            "colorbar": {
             "outlinewidth": 0,
             "ticks": ""
            },
            "type": "mesh3d"
           }
          ],
          "parcoords": [
           {
            "line": {
             "colorbar": {
              "outlinewidth": 0,
              "ticks": ""
             }
            },
            "type": "parcoords"
           }
          ],
          "pie": [
           {
            "automargin": true,
            "type": "pie"
           }
          ],
          "scatter": [
           {
            "fillpattern": {
             "fillmode": "overlay",
             "size": 10,
             "solidity": 0.2
            },
            "type": "scatter"
           }
          ],
          "scatter3d": [
           {
            "line": {
             "colorbar": {
              "outlinewidth": 0,
              "ticks": ""
             }
            },
            "marker": {
             "colorbar": {
              "outlinewidth": 0,
              "ticks": ""
             }
            },
            "type": "scatter3d"
           }
          ],
          "scattercarpet": [
           {
            "marker": {
             "colorbar": {
              "outlinewidth": 0,
              "ticks": ""
             }
            },
            "type": "scattercarpet"
           }
          ],
          "scattergeo": [
           {
            "marker": {
             "colorbar": {
              "outlinewidth": 0,
              "ticks": ""
             }
            },
            "type": "scattergeo"
           }
          ],
          "scattergl": [
           {
            "marker": {
             "colorbar": {
              "outlinewidth": 0,
              "ticks": ""
             }
            },
            "type": "scattergl"
           }
          ],
          "scattermapbox": [
           {
            "marker": {
             "colorbar": {
              "outlinewidth": 0,
              "ticks": ""
             }
            },
            "type": "scattermapbox"
           }
          ],
          "scatterpolar": [
           {
            "marker": {
             "colorbar": {
              "outlinewidth": 0,
              "ticks": ""
             }
            },
            "type": "scatterpolar"
           }
          ],
          "scatterpolargl": [
           {
            "marker": {
             "colorbar": {
              "outlinewidth": 0,
              "ticks": ""
             }
            },
            "type": "scatterpolargl"
           }
          ],
          "scatterternary": [
           {
            "marker": {
             "colorbar": {
              "outlinewidth": 0,
              "ticks": ""
             }
            },
            "type": "scatterternary"
           }
          ],
          "surface": [
           {
            "colorbar": {
             "outlinewidth": 0,
             "ticks": ""
            },
            "colorscale": [
             [
              0,
              "#0d0887"
             ],
             [
              0.1111111111111111,
              "#46039f"
             ],
             [
              0.2222222222222222,
              "#7201a8"
             ],
             [
              0.3333333333333333,
              "#9c179e"
             ],
             [
              0.4444444444444444,
              "#bd3786"
             ],
             [
              0.5555555555555556,
              "#d8576b"
             ],
             [
              0.6666666666666666,
              "#ed7953"
             ],
             [
              0.7777777777777778,
              "#fb9f3a"
             ],
             [
              0.8888888888888888,
              "#fdca26"
             ],
             [
              1,
              "#f0f921"
             ]
            ],
            "type": "surface"
           }
          ],
          "table": [
           {
            "cells": {
             "fill": {
              "color": "#EBF0F8"
             },
             "line": {
              "color": "white"
             }
            },
            "header": {
             "fill": {
              "color": "#C8D4E3"
             },
             "line": {
              "color": "white"
             }
            },
            "type": "table"
           }
          ]
         },
         "layout": {
          "annotationdefaults": {
           "arrowcolor": "#2a3f5f",
           "arrowhead": 0,
           "arrowwidth": 1
          },
          "autotypenumbers": "strict",
          "coloraxis": {
           "colorbar": {
            "outlinewidth": 0,
            "ticks": ""
           }
          },
          "colorscale": {
           "diverging": [
            [
             0,
             "#8e0152"
            ],
            [
             0.1,
             "#c51b7d"
            ],
            [
             0.2,
             "#de77ae"
            ],
            [
             0.3,
             "#f1b6da"
            ],
            [
             0.4,
             "#fde0ef"
            ],
            [
             0.5,
             "#f7f7f7"
            ],
            [
             0.6,
             "#e6f5d0"
            ],
            [
             0.7,
             "#b8e186"
            ],
            [
             0.8,
             "#7fbc41"
            ],
            [
             0.9,
             "#4d9221"
            ],
            [
             1,
             "#276419"
            ]
           ],
           "sequential": [
            [
             0,
             "#0d0887"
            ],
            [
             0.1111111111111111,
             "#46039f"
            ],
            [
             0.2222222222222222,
             "#7201a8"
            ],
            [
             0.3333333333333333,
             "#9c179e"
            ],
            [
             0.4444444444444444,
             "#bd3786"
            ],
            [
             0.5555555555555556,
             "#d8576b"
            ],
            [
             0.6666666666666666,
             "#ed7953"
            ],
            [
             0.7777777777777778,
             "#fb9f3a"
            ],
            [
             0.8888888888888888,
             "#fdca26"
            ],
            [
             1,
             "#f0f921"
            ]
           ],
           "sequentialminus": [
            [
             0,
             "#0d0887"
            ],
            [
             0.1111111111111111,
             "#46039f"
            ],
            [
             0.2222222222222222,
             "#7201a8"
            ],
            [
             0.3333333333333333,
             "#9c179e"
            ],
            [
             0.4444444444444444,
             "#bd3786"
            ],
            [
             0.5555555555555556,
             "#d8576b"
            ],
            [
             0.6666666666666666,
             "#ed7953"
            ],
            [
             0.7777777777777778,
             "#fb9f3a"
            ],
            [
             0.8888888888888888,
             "#fdca26"
            ],
            [
             1,
             "#f0f921"
            ]
           ]
          },
          "colorway": [
           "#636efa",
           "#EF553B",
           "#00cc96",
           "#ab63fa",
           "#FFA15A",
           "#19d3f3",
           "#FF6692",
           "#B6E880",
           "#FF97FF",
           "#FECB52"
          ],
          "font": {
           "color": "#2a3f5f"
          },
          "geo": {
           "bgcolor": "white",
           "lakecolor": "white",
           "landcolor": "#E5ECF6",
           "showlakes": true,
           "showland": true,
           "subunitcolor": "white"
          },
          "hoverlabel": {
           "align": "left"
          },
          "hovermode": "closest",
          "mapbox": {
           "style": "light"
          },
          "paper_bgcolor": "white",
          "plot_bgcolor": "#E5ECF6",
          "polar": {
           "angularaxis": {
            "gridcolor": "white",
            "linecolor": "white",
            "ticks": ""
           },
           "bgcolor": "#E5ECF6",
           "radialaxis": {
            "gridcolor": "white",
            "linecolor": "white",
            "ticks": ""
           }
          },
          "scene": {
           "xaxis": {
            "backgroundcolor": "#E5ECF6",
            "gridcolor": "white",
            "gridwidth": 2,
            "linecolor": "white",
            "showbackground": true,
            "ticks": "",
            "zerolinecolor": "white"
           },
           "yaxis": {
            "backgroundcolor": "#E5ECF6",
            "gridcolor": "white",
            "gridwidth": 2,
            "linecolor": "white",
            "showbackground": true,
            "ticks": "",
            "zerolinecolor": "white"
           },
           "zaxis": {
            "backgroundcolor": "#E5ECF6",
            "gridcolor": "white",
            "gridwidth": 2,
            "linecolor": "white",
            "showbackground": true,
            "ticks": "",
            "zerolinecolor": "white"
           }
          },
          "shapedefaults": {
           "line": {
            "color": "#2a3f5f"
           }
          },
          "ternary": {
           "aaxis": {
            "gridcolor": "white",
            "linecolor": "white",
            "ticks": ""
           },
           "baxis": {
            "gridcolor": "white",
            "linecolor": "white",
            "ticks": ""
           },
           "bgcolor": "#E5ECF6",
           "caxis": {
            "gridcolor": "white",
            "linecolor": "white",
            "ticks": ""
           }
          },
          "title": {
           "x": 0.05
          },
          "xaxis": {
           "automargin": true,
           "gridcolor": "white",
           "linecolor": "white",
           "ticks": "",
           "title": {
            "standoff": 15
           },
           "zerolinecolor": "white",
           "zerolinewidth": 2
          },
          "yaxis": {
           "automargin": true,
           "gridcolor": "white",
           "linecolor": "white",
           "ticks": "",
           "title": {
            "standoff": 15
           },
           "zerolinecolor": "white",
           "zerolinewidth": 2
          }
         }
        }
       }
      }
     },
     "metadata": {},
     "output_type": "display_data"
    }
   ],
   "source": [
    "import plotly.express as px\n",
    "\n",
    "# using plotly express\n",
    "df = px.data.gapminder().query(\"year == 2007\")\n",
    "fig = px.scatter_geo(\n",
    "    df, \n",
    "    locations=\"iso_alpha\",\n",
    "    size=\"pop\", # size of markers, \"pop\" is one of the columns of gapminder\n",
    ")\n",
    "\n",
    "fig.update_layout(\n",
    "    margin={\"r\":0,\"t\":0,\"l\":0,\"b\":0}\n",
    ")\n",
    "\n",
    "fig.show()"
   ]
  },
  {
   "cell_type": "code",
   "execution_count": null,
   "metadata": {},
   "outputs": [
    {
     "name": "stdout",
     "output_type": "stream",
     "text": [
      "     Unnamed: 0        lat       lon  Purchases\n",
      "0             0  39.185431 -7.086618        814\n",
      "1             1  41.778214 -7.670053         11\n",
      "2             2  40.793973 -8.485701        317\n",
      "3             3  40.193963 -6.670338        591\n",
      "4             4  38.202084 -7.134968        215\n",
      "..          ...        ...       ...        ...\n",
      "495         495  39.090085 -9.270305        893\n",
      "496         496  40.126453 -6.297671        235\n",
      "497         497  37.849806 -9.107453        851\n",
      "498         498  41.884777 -6.179146        739\n",
      "499         499  41.937948 -7.994379        520\n",
      "\n",
      "[500 rows x 4 columns]\n"
     ]
    },
    {
     "data": {
      "application/vnd.plotly.v1+json": {
       "config": {
        "plotlyServerURL": "https://plot.ly"
       },
       "data": [
        {
         "lat": [
          39.18543053481313,
          41.77821437884462,
          40.793972738151325,
          40.19396317888666,
          38.202083881990966,
          38.20197534151291,
          37.7613762547569,
          41.39779265598721,
          40.20501755284444,
          40.68632660008221,
          37.59263022433111,
          41.86459433472898,
          41.245991883601896,
          38.455525998052245,
          38.31821235243195,
          38.32532029434045,
          38.86909009331792,
          39.86140394234507,
          39.44375258388952,
          38.81053113089119,
          40.25333802625071,
          38.12772237293419,
          38.81465091840848,
          39.14862829482161,
          39.55231492897666,
          41.03329182626856,
          38.39853201971262,
          39.81405497286125,
          40.1658655598792,
          37.70902685723999,
          40.23395183355648,
          38.26735855659281,
          37.79273216843376,
          41.76998491764,
          41.84534414883552,
          41.13778806652408,
          38.87076196128017,
          37.93952451302873,
          40.57904861930471,
          39.48068622182821,
          38.0491720568015,
          39.72829609550072,
          37.65474834501848,
          41.59194180935452,
          38.66450991720008,
          40.48135027959292,
          38.90269984240235,
          39.84030609530015,
          39.96019625704476,
          38.33184504986488,
          41.86313082494051,
          40.98809770512501,
          41.72774523703885,
          41.52672307692442,
          40.190549904649885,
          41.64843405760403,
          37.89821625923364,
          38.38192288088615,
          37.703522800097424,
          38.96398648843469,
          39.24904780360267,
          38.72107064298253,
          41.22931879118368,
          39.10538997012115,
          38.764205293593214,
          39.94213237421212,
          38.134159012386434,
          41.10988641339318,
          37.83547789655897,
          41.94099121470233,
          40.97510146183496,
          38.394220566903776,
          37.52484952705621,
          41.16957642804675,
          40.680858047314274,
          40.78053225618444,
          40.97071656008676,
          37.83320093280341,
          39.11309577844923,
          38.02141076786308,
          41.38396541644017,
          40.30484157072401,
          38.98904111183692,
          37.78601257628711,
          38.89942044772048,
          38.96332494912036,
          40.78322780252129,
          40.36900862109846,
          41.49245734159347,
          39.62496716322877,
          38.03817410672236,
          40.70960154250348,
          40.92353271877604,
          40.02574738906273,
          40.969352309795525,
          39.72208018363976,
          39.85229773221897,
          39.42393458261348,
          37.61438607034843,
          37.98551142146987,
          37.64143133559031,
          40.36384685068701,
          38.91460191484347,
          39.788568110241165,
          41.58404913266742,
          38.62181503116994,
          39.346723153660335,
          40.89998012344372,
          38.5295917447123,
          37.84640959422957,
          38.80388153811196,
          38.22549579264302,
          41.68363943554158,
          41.13654170803988,
          40.3503169042969,
          41.42157265584473,
          41.11652434604601,
          38.33956526498716,
          41.5165154932049,
          39.92704008862043,
          41.13348069823828,
          41.53241084965572,
          38.931015637373385,
          37.99523366037455,
          38.525708231438735,
          39.42198504881815,
          41.18106644665122,
          41.37328762465354,
          37.53128458739036,
          39.798362861599045,
          39.37834951416951,
          38.499485147118286,
          38.03939415300157,
          39.01926827131633,
          41.74309366760634,
          38.9544131940934,
          39.83455779784515,
          40.6635853150283,
          39.13633321070682,
          41.87301937224432,
          41.8310128272395,
          38.63302033121414,
          39.73761827651573,
          38.853952394175465,
          38.7817822246986,
          37.6659912630954,
          40.24303950290954,
          39.76205560452988,
          37.73165438062495,
          38.75390908906475,
          41.58719648684994,
          38.578028508001374,
          38.15202692441051,
          39.70253742124903,
          41.9354270434977,
          38.58924872180175,
          40.524609963326455,
          40.927288268979225,
          38.5693689479658,
          40.77697356875337,
          39.15502409723664,
          40.345376237671104,
          40.35088369842403,
          39.910986078336414,
          37.90630396524484,
          41.25886123015157,
          38.943510292372814,
          38.33933329679935,
          37.68348813699644,
          40.15901824434709,
          40.549039628290274,
          37.57464523017535,
          39.80441876234677,
          38.51923098839072,
          40.403277556842525,
          38.28464893052247,
          40.609219821461096,
          39.240309058352416,
          41.7152849493153,
          38.11884424865697,
          39.03479857972616,
          38.010630845582654,
          41.66112128225353,
          41.44802709021442,
          38.6607373247182,
          40.46992820715381,
          41.177499900905474,
          39.99840365219758,
          39.883427602602026,
          38.588335309052034,
          37.91896245512655,
          41.53747091078997,
          41.55188125723499,
          40.34895655772971,
          39.02563405971915,
          39.071443085756975,
          40.76680055491608,
          41.5369961697866,
          41.49188890919303,
          41.00943995635931,
          40.38914240769429,
          37.87862984247772,
          38.22732921342576,
          41.54349384837186,
          40.22893076846815,
          37.54138673227483,
          37.95662194289714,
          40.48575796098625,
          37.52277712730798,
          38.22363623137874,
          39.96930205214964,
          40.61352838961712,
          40.4338256677617,
          38.50921189257252,
          40.70480649606391,
          38.5676208937356,
          38.9642986417167,
          40.85921132303111,
          40.42334804571247,
          41.3215053472238,
          40.45925801535154,
          40.05738871500962,
          37.921536455226416,
          39.15472111376745,
          38.69341065456776,
          38.59795339520588,
          41.878547496386005,
          39.268939761000425,
          41.51420949829701,
          40.340123816987685,
          41.07665086593742,
          39.76186691897337,
          40.09606748081862,
          39.71632962218489,
          38.3785934450912,
          40.751034518676775,
          38.76347563098385,
          37.60942184894154,
          40.40462533158225,
          38.29699805733172,
          41.73206362958811,
          41.79267859651164,
          41.61688975599202,
          39.1657141511495,
          37.5695547743799,
          41.677433531644766,
          39.42682866742791,
          41.84994668569652,
          41.83628989690164,
          41.33854254960312,
          38.82502001431313,
          39.23293977870866,
          41.330115021825854,
          38.92614902320325,
          38.26271736008741,
          40.005605681062576,
          41.71269648372351,
          40.63213408503738,
          40.06527526540214,
          37.93729422196846,
          40.26753252014626,
          41.95524232546919,
          38.13037806856436,
          39.83248343563682,
          41.4481788236758,
          40.83345877989392,
          40.636570834478704,
          40.661178377942,
          39.1177101804889,
          38.82116329919022,
          41.142125199653314,
          41.14551027605632,
          41.40182543361047,
          41.60958248650413,
          39.80104079487422,
          39.7568233260924,
          41.09232830535049,
          40.42483768849994,
          40.65885094765967,
          41.081067012462455,
          41.505024038179045,
          39.02097820583191,
          39.19012328687975,
          37.92291872928391,
          40.10226063448278,
          37.661740232085336,
          39.59519108159607,
          39.94190085618409,
          38.78943563457728,
          40.15874967256055,
          37.63725112472572,
          37.66806684937146,
          41.20170252296846,
          39.12085788635069,
          38.07177230693348,
          39.85009467024662,
          40.96497098894375,
          38.4711946237358,
          40.3030071411855,
          37.88406359247195,
          37.732567745258734,
          39.89109584205666,
          39.93285804724548,
          40.36843455674193,
          40.76741100175197,
          41.89133435758141,
          39.82335156735538,
          38.95330412823561,
          41.078337876459166,
          38.71874513067933,
          39.475371393175365,
          37.85305371604019,
          37.61407834536956,
          41.83191786605066,
          41.261910542304925,
          40.63188392742164,
          39.340288249864216,
          38.279824440318805,
          38.20396669201989,
          38.62609304174068,
          39.97151999117754,
          40.71568165215028,
          40.47088819522979,
          38.75970253625674,
          41.796893762984375,
          40.82053612513096,
          39.994593236301306,
          40.25274335805459,
          39.388200280925055,
          38.61478945275521,
          39.10187705393068,
          40.91030749708966,
          37.564770698833904,
          38.02232688228112,
          37.707011889097885,
          37.68327961043536,
          41.34957262804953,
          40.66646036721011,
          39.63378223089296,
          37.94025372292951,
          39.71227143802575,
          39.63062296851255,
          38.27940841459507,
          39.45233242157088,
          39.29327130478818,
          40.27132544123497,
          40.3579214289044,
          37.70386804397421,
          39.18575676581912,
          40.31636962071406,
          39.7641131636104,
          41.35420428534745,
          40.46412134228525,
          38.23320492186643,
          37.81755936330193,
          40.39088675192842,
          37.6193008974373,
          40.135990115730586,
          41.73103608641231,
          40.089633800441455,
          39.24676466792935,
          40.39479698299059,
          39.56213800721183,
          39.95527555192171,
          41.73659163949437,
          39.23746187010349,
          41.825357537207616,
          41.574077888802286,
          38.38106010655184,
          37.81212585393824,
          37.95350100619842,
          37.58199821543197,
          37.92499332340168,
          40.573530480373606,
          37.82034891807103,
          38.93539033632192,
          41.30193889936255,
          37.604723710811214,
          41.16510817165021,
          38.7683464864803,
          38.031741724297454,
          40.63531724413868,
          40.33024281050948,
          41.44862406087174,
          40.80781969711749,
          41.11566418673182,
          38.76915557657088,
          38.29847794700876,
          40.87776638238386,
          41.13075632670269,
          41.95727313900303,
          39.35677954610142,
          39.17408138606753,
          40.99385832333898,
          39.03361593113858,
          41.68840796521605,
          41.36285738329355,
          39.43047312318758,
          40.87891980506174,
          40.89544293338107,
          37.96405740976169,
          41.56148808005805,
          39.77363567601536,
          41.21905859748484,
          38.94022320463775,
          41.5298545282329,
          39.25140755430373,
          37.54876943166134,
          41.57421889388669,
          37.9107900455376,
          38.93691136915687,
          41.77527885172862,
          41.77773216121901,
          40.08047049655479,
          40.343267454764096,
          39.51800484890244,
          38.81944847264129,
          38.978990454164624,
          40.52633305234667,
          40.88568538246956,
          41.06210569676632,
          41.05328164257549,
          37.91042746371911,
          39.72489137116162,
          37.7590144200749,
          39.97287997045681,
          39.4868872561802,
          41.49466882241235,
          39.07911755648436,
          38.026801573924224,
          38.14346256923776,
          40.92679784272863,
          40.28198128492318,
          37.95505204255256,
          37.87848062751749,
          40.65436109156604,
          37.82743352863887,
          41.198370266806606,
          40.67809002220423,
          37.86606951288855,
          37.88176971338336,
          41.93987810325529,
          39.18421858090254,
          39.167889661801006,
          41.15759805265876,
          41.76261859822736,
          41.93700478720292,
          40.89020183366524,
          39.19316813488912,
          37.87575322514401,
          40.99716112167346,
          40.01281912381112,
          39.4089990416114,
          41.57859473292631,
          38.00038867037768,
          39.71681296930887,
          37.55109140145338,
          39.60897288897357,
          37.753364740568266,
          38.03468062320633,
          38.02886811049697,
          40.421446359522285,
          40.8572019566944,
          40.12515944293722,
          41.82977646813544,
          39.18691760785667,
          38.78570438826837,
          41.40869607685257,
          38.50618127333754,
          41.83450142748275,
          37.55469513610417,
          41.864454720184376,
          37.69421960377759,
          41.51014401164132,
          39.87465499088835,
          41.96834158253685,
          37.83208454130929,
          39.99234427980594,
          41.86186141028595,
          39.85394029876567,
          40.33229387160869,
          40.63086910043078,
          39.54543479145498,
          40.324011360378286,
          40.12941440365395,
          41.555211047209454,
          37.70450871153656,
          38.76433435316503,
          41.776851678344514,
          41.50618702750912,
          39.550455387535706,
          40.29059669010692,
          38.748215323415096,
          38.34654521875692,
          39.58664282222992,
          39.09008502611724,
          40.12645250332893,
          37.84980586634243,
          41.88477663449775,
          41.937948350158216
         ],
         "lon": [
          -7.086617829528917,
          -7.670053081161166,
          -8.485700581369219,
          -6.670337929054985,
          -7.134967778806034,
          -9.014579018358392,
          -6.320662135822167,
          -6.638865925476591,
          -6.180720312149074,
          -6.987409769801904,
          -7.391705294631157,
          -8.094325069353772,
          -6.242177459925552,
          -6.48216999779853,
          -9.437212787617716,
          -9.505078891809893,
          -8.244731879239021,
          -6.6820080091854015,
          -6.0458059344662,
          -9.058499192027298,
          -7.461129424732313,
          -8.228792916128322,
          -6.1083081678674285,
          -6.568371876711449,
          -6.582016663039903,
          -7.912704624738106,
          -8.106649791584406,
          -8.615734541049457,
          -9.397048212056662,
          -6.486999445481809,
          -6.67355636713172,
          -6.00101637616993,
          -6.012107386533941,
          -7.600445859830541,
          -6.831645305350162,
          -6.198843372423259,
          -6.541269393561318,
          -8.709546833724488,
          -7.978041112883663,
          -9.135026105454616,
          -6.1654163018686,
          -7.417771315976831,
          -8.776885900187533,
          -7.181877536138916,
          -7.374738334351575,
          -8.310614215081774,
          -9.191192668081335,
          -7.182336495865922,
          -7.726892276746344,
          -6.819653789751698,
          -7.727411395996824,
          -6.532146598853256,
          -7.613135380411852,
          -7.58062330247261,
          -6.444047030429958,
          -8.14746168163537,
          -9.117545177577693,
          -9.49638236527198,
          -6.881505879574972,
          -7.366885615127527,
          -7.0653128348427945,
          -8.833329018567921,
          -9.10906268788763,
          -9.547639203595624,
          -8.33788478829625,
          -7.476296327323321,
          -8.187921437640963,
          -8.025090280714576,
          -6.345028699822506,
          -8.346280318716119,
          -7.749637839024681,
          -6.778849154131885,
          -8.172445983643428,
          -7.360487879179655,
          -6.495490648511717,
          -6.181725754832488,
          -9.070535468655462,
          -6.264284549418621,
          -7.828381344913662,
          -8.670320202123749,
          -7.947111277542259,
          -6.071882728972282,
          -7.826574861625669,
          -8.41649420296497,
          -7.319756924459787,
          -8.735475772398505,
          -9.32689201880881,
          -9.136033001121662,
          -9.13903497975202,
          -9.05315030335574,
          -9.100222178462124,
          -7.292850918708427,
          -8.945231696163079,
          -8.355597780034092,
          -6.371561724338358,
          -7.893738095053659,
          -7.196792141324302,
          -8.979648463674133,
          -8.907759532288784,
          -9.452872981440676,
          -8.991833772940208,
          -8.597074779484949,
          -8.96276225660371,
          -9.2806708784746,
          -9.165710864037838,
          -7.941196435082187,
          -8.857198613739147,
          -8.288628500226928,
          -7.787697824922515,
          -7.114578616934285,
          -9.458476296572044,
          -6.722122563927446,
          -7.339558597832732,
          -9.30566748498406,
          -6.455116953215602,
          -6.284859358085472,
          -9.38011934452249,
          -8.603240466670066,
          -6.697675392744979,
          -6.906265114618829,
          -8.935724330317042,
          -8.846342435987843,
          -8.266300429951025,
          -7.855717253312322,
          -7.374282822490935,
          -8.27191089754882,
          -7.934875021920668,
          -6.909104622718477,
          -9.467940469593849,
          -8.691227000361526,
          -7.031941490815611,
          -6.377255384326082,
          -7.757961208383602,
          -7.684391453044864,
          -9.214180759176806,
          -7.989315479435563,
          -7.682577840761916,
          -8.727106186914973,
          -8.630724368582229,
          -8.24177701282336,
          -9.527743688000184,
          -8.440515003900558,
          -8.838787174812438,
          -8.421009532159507,
          -9.168856325450696,
          -6.3941017893363785,
          -7.463067167205425,
          -7.155231651079838,
          -6.758983541013582,
          -7.805608083855393,
          -9.287086962885274,
          -7.666416449453228,
          -7.4873719751248355,
          -6.916417892936412,
          -8.046025633573153,
          -9.14071090993597,
          -8.578406739124592,
          -8.292903732964913,
          -7.274697931206235,
          -7.545198103191916,
          -8.318051786767754,
          -6.048545104345273,
          -7.419210650315206,
          -8.74598354975042,
          -9.233583098566546,
          -9.049707098936404,
          -8.71455217781577,
          -9.0215470562656,
          -8.9283587134153,
          -8.57365739270215,
          -8.975855056938883,
          -6.371644471344869,
          -9.311158515618088,
          -7.711758997547083,
          -8.122571422837218,
          -6.063436979129017,
          -9.196659952195011,
          -8.16771984343533,
          -6.109906440208672,
          -6.484174346781671,
          -6.658540544582593,
          -8.671549822638216,
          -8.984804685395762,
          -7.192884408272048,
          -6.254246439140691,
          -7.595653585149853,
          -7.54219431790836,
          -8.592075262822977,
          -6.829825440509027,
          -8.926642505192916,
          -8.434754748944723,
          -8.0684288209809,
          -7.772602636735962,
          -8.72732496330571,
          -9.186587430938866,
          -7.401767847210122,
          -8.56093000833508,
          -7.507542402878595,
          -9.044294225012871,
          -7.867895633322657,
          -7.682678042814291,
          -9.413435267439263,
          -8.388224598501886,
          -9.116107163019691,
          -9.371850106298035,
          -6.036143163396197,
          -8.439526158090997,
          -6.6844519949233145,
          -8.68329364285045,
          -7.146590199993854,
          -6.863179704397128,
          -7.45570053381176,
          -7.90232572121943,
          -8.117372709069834,
          -8.344074240445217,
          -6.253695080707827,
          -6.609770131964175,
          -6.125903121600555,
          -9.152529995452038,
          -6.968877089266881,
          -6.221974355444264,
          -8.947560961803623,
          -9.3606134374796,
          -6.931965662555788,
          -7.531896792552317,
          -6.569416403670221,
          -9.096819444145355,
          -6.737037677304395,
          -8.87414164782812,
          -9.010838605683464,
          -9.008643127448424,
          -6.667531007167025,
          -7.20529000549368,
          -7.71696447083117,
          -8.308210257155391,
          -6.442078053072811,
          -8.187197613278512,
          -6.6602420179023225,
          -8.019114329147214,
          -8.243000054070333,
          -7.934352771589417,
          -8.515039653009088,
          -6.908606231365496,
          -7.790206595667075,
          -8.764034297471458,
          -6.361531536211554,
          -8.217991603056438,
          -7.643209699989641,
          -6.336700400527631,
          -7.352743214709628,
          -9.17916705344989,
          -6.216604354991489,
          -7.340251008942896,
          -8.39433978723449,
          -9.098620538411806,
          -6.741509318626934,
          -7.367738078657351,
          -7.679540068885243,
          -6.381986701016553,
          -6.761050039591689,
          -9.053970432962096,
          -8.477800555936026,
          -8.705439096667924,
          -6.921793346738363,
          -9.479283234951192,
          -7.5483971344632605,
          -6.855148731333514,
          -6.443643707657702,
          -8.368505704622732,
          -6.643473703180754,
          -9.201725746961252,
          -6.552771749755735,
          -9.141040815604862,
          -8.169765753982677,
          -6.729736683193607,
          -9.060297261544417,
          -8.77469497716249,
          -6.999890753784961,
          -7.007868468434133,
          -7.29186852161293,
          -7.10178559991844,
          -7.646192003948654,
          -8.69352338793497,
          -8.35549442338589,
          -8.946248219514867,
          -6.3295779791989375,
          -7.499789538841966,
          -8.156934899650896,
          -7.936779106881122,
          -6.189779977397465,
          -9.04793494878211,
          -7.48957260473953,
          -7.778800756015922,
          -7.398764752435268,
          -9.534803338244974,
          -6.460353927801055,
          -6.244374183058995,
          -7.565520539078848,
          -7.092057034043188,
          -6.279002227761735,
          -7.053940916471765,
          -9.050859445508658,
          -7.525361903399473,
          -7.415825833021719,
          -8.07312958331141,
          -6.948800751750998,
          -6.236278746831546,
          -6.267953353535605,
          -7.976978262945124,
          -9.19234303497328,
          -6.054571683735595,
          -6.579966888794637,
          -9.15121434766824,
          -6.28496922257746,
          -6.468373096576338,
          -7.73218299434614,
          -7.471408431318254,
          -8.16359026606753,
          -9.402858100240689,
          -8.393289930074756,
          -6.709727585047158,
          -9.58332471718343,
          -8.39940298191188,
          -8.166592703072604,
          -7.665375829423477,
          -6.288519780914062,
          -8.35315442028254,
          -8.35096847317358,
          -6.944995506804906,
          -7.972015412796694,
          -8.791422637416066,
          -7.971217741922303,
          -9.09291472663272,
          -8.965006848577596,
          -7.805876018137873,
          -8.091868381783627,
          -6.30655475615484,
          -8.295381963180121,
          -7.509881938999044,
          -7.32384856348969,
          -9.552859956282,
          -7.211265460739842,
          -8.959070519268895,
          -6.140146857109961,
          -9.064814180088794,
          -8.107353154582714,
          -9.292741194916882,
          -6.01125269335459,
          -7.792097962807526,
          -7.456613937647843,
          -9.35852468140166,
          -6.90014230656296,
          -8.844339864855892,
          -6.367004558013431,
          -8.861497294264774,
          -8.9135242056108,
          -9.468421195746858,
          -7.900558997604002,
          -7.566571920254581,
          -9.363448898057932,
          -6.808100579897962,
          -7.9681601949071,
          -7.712195030420712,
          -8.013254111022379,
          -8.157252980848826,
          -7.585294807290415,
          -9.041135114649435,
          -8.945058730217024,
          -6.4975717643513375,
          -6.1939843363189215,
          -8.25608646139289,
          -8.625319176683206,
          -7.281601644339544,
          -8.128556984046853,
          -9.508609119622758,
          -9.037850649481715,
          -7.022499976149369,
          -7.227873809123455,
          -9.50245442698746,
          -8.80090021704138,
          -8.768130732282943,
          -7.1811861230445775,
          -9.529042064084289,
          -9.225209104855534,
          -6.720302092656518,
          -8.957239216604398,
          -7.250114011733251,
          -8.742541988231784,
          -9.242010986066358,
          -8.724580112401965,
          -6.999839045319627,
          -6.519492714817371,
          -6.61120848755883,
          -8.170139293373563,
          -7.1948935083456735,
          -8.862056536503044,
          -8.544668171060351,
          -6.373191053323969,
          -9.55319307536135,
          -9.292169288923915,
          -8.851609481474302,
          -9.504484066054248,
          -8.946832433676729,
          -7.501050380509108,
          -8.082871617867006,
          -6.3863818401228905,
          -6.6572031777416125,
          -8.369457533887646,
          -8.666075639647346,
          -8.23310733059784,
          -7.474938206946692,
          -8.634970893037645,
          -7.353063931743117,
          -8.126118052111535,
          -7.612630148932871,
          -8.02994449511286,
          -8.539923265649096,
          -6.185568094936236,
          -6.851019141024861,
          -9.09559256724077,
          -6.473515286767514,
          -7.84524768630175,
          -6.37961198318127,
          -6.720521078589665,
          -8.06923138391076,
          -9.519110490047575,
          -8.632761506214194,
          -7.650116827220879,
          -7.319478408625869,
          -8.671604332440472,
          -9.098318133337832,
          -6.594251147522523,
          -6.056152149467213,
          -7.70751534371033,
          -8.981954570946106,
          -8.61969362453027,
          -9.53379356442912,
          -6.308524296382204,
          -9.176096101595492,
          -7.5245406881486865,
          -8.613401205526058,
          -7.604959190943143,
          -7.254886601933288,
          -6.6129295066540745,
          -8.856883421661829,
          -9.56041501682947,
          -9.107211731752294,
          -6.359932889346822,
          -6.4539957207749445,
          -7.44931283218689,
          -7.438139302438848,
          -7.205867971633481,
          -8.96866339695558,
          -6.308116994670145,
          -8.092426110388537,
          -8.220701298301808,
          -7.731896260981784,
          -9.4309225196098,
          -9.001379872478115,
          -6.943078980865066,
          -9.301924795469544,
          -7.428652405921002,
          -8.716743205147244,
          -8.198535789448885,
          -8.56070254762548,
          -8.319578220726182,
          -7.011434741336716,
          -8.53036182375657,
          -7.56094329493117,
          -7.886218552083241,
          -7.210783804694467,
          -6.227412938430872,
          -6.962740450043099,
          -8.826214637073276,
          -9.487740713779376,
          -8.65584944052063,
          -7.457719449479082,
          -9.414867071456698,
          -7.813081510075549,
          -7.451365743899199,
          -8.396721993058941,
          -6.824716066515041,
          -9.216246288718422,
          -9.329503985751089,
          -6.978520477667027,
          -7.816231261657686,
          -7.12175137286015,
          -8.034621581026514,
          -8.712952680339216,
          -6.651231656372881,
          -6.7221028357116746,
          -7.099092704924064,
          -8.620277505972133,
          -7.475169599271286,
          -8.300493971015904,
          -9.270304536024115,
          -6.297671128335926,
          -9.10745292869174,
          -6.179145526245112,
          -7.994379217351359
         ],
         "marker": {
          "color": [
           814,
           11,
           317,
           591,
           215,
           338,
           775,
           990,
           660,
           80,
           726,
           484,
           373,
           975,
           709,
           199,
           536,
           465,
           88,
           267,
           654,
           570,
           921,
           488,
           876,
           537,
           46,
           287,
           777,
           15,
           710,
           400,
           918,
           793,
           980,
           85,
           249,
           390,
           781,
           334,
           628,
           518,
           136,
           882,
           687,
           839,
           497,
           826,
           726,
           476,
           593,
           222,
           989,
           371,
           934,
           994,
           401,
           442,
           489,
           614,
           272,
           525,
           158,
           151,
           994,
           619,
           187,
           812,
           97,
           130,
           804,
           170,
           935,
           985,
           182,
           982,
           363,
           38,
           526,
           887,
           496,
           515,
           348,
           981,
           920,
           396,
           721,
           160,
           15,
           492,
           425,
           107,
           893,
           449,
           310,
           738,
           169,
           545,
           413,
           250,
           758,
           780,
           140,
           273,
           415,
           607,
           738,
           890,
           38,
           813,
           28,
           957,
           476,
           317,
           244,
           747,
           696,
           271,
           439,
           747,
           238,
           376,
           265,
           925,
           920,
           358,
           339,
           388,
           576,
           989,
           688,
           2,
           428,
           141,
           375,
           669,
           323,
           145,
           957,
           292,
           664,
           431,
           704,
           948,
           974,
           584,
           398,
           816,
           888,
           343,
           963,
           139,
           186,
           804,
           60,
           996,
           938,
           379,
           709,
           806,
           439,
           318,
           301,
           343,
           10,
           61,
           844,
           225,
           152,
           710,
           563,
           771,
           570,
           583,
           659,
           860,
           574,
           309,
           884,
           242,
           492,
           365,
           329,
           106,
           225,
           824,
           217,
           936,
           752,
           505,
           258,
           887,
           773,
           516,
           772,
           53,
           46,
           726,
           688,
           520,
           98,
           19,
           889,
           752,
           572,
           890,
           489,
           418,
           689,
           849,
           61,
           144,
           215,
           2,
           159,
           738,
           997,
           780,
           119,
           892,
           88,
           328,
           579,
           909,
           356,
           609,
           266,
           616,
           951,
           322,
           634,
           987,
           540,
           648,
           194,
           920,
           737,
           331,
           169,
           520,
           462,
           39,
           536,
           260,
           394,
           954,
           225,
           983,
           123,
           974,
           37,
           327,
           250,
           900,
           175,
           601,
           913,
           453,
           36,
           315,
           687,
           972,
           795,
           964,
           972,
           592,
           113,
           39,
           300,
           223,
           317,
           348,
           114,
           697,
           322,
           567,
           39,
           865,
           39,
           858,
           972,
           748,
           288,
           261,
           215,
           146,
           335,
           167,
           91,
           352,
           570,
           570,
           815,
           680,
           780,
           362,
           556,
           344,
           692,
           169,
           355,
           190,
           666,
           421,
           699,
           6,
           132,
           746,
           556,
           825,
           760,
           30,
           534,
           425,
           393,
           671,
           362,
           436,
           669,
           550,
           926,
           81,
           355,
           257,
           717,
           588,
           988,
           523,
           294,
           961,
           223,
           524,
           45,
           666,
           112,
           232,
           16,
           359,
           222,
           865,
           699,
           447,
           855,
           364,
           674,
           325,
           466,
           413,
           454,
           585,
           232,
           223,
           993,
           830,
           411,
           571,
           334,
           221,
           36,
           988,
           277,
           195,
           915,
           863,
           483,
           241,
           323,
           730,
           191,
           16,
           523,
           917,
           400,
           905,
           885,
           704,
           21,
           473,
           119,
           209,
           305,
           269,
           703,
           686,
           284,
           715,
           675,
           762,
           226,
           947,
           380,
           459,
           6,
           28,
           906,
           32,
           645,
           878,
           78,
           927,
           946,
           458,
           569,
           982,
           537,
           481,
           429,
           737,
           284,
           515,
           976,
           98,
           396,
           488,
           38,
           270,
           886,
           796,
           156,
           74,
           883,
           799,
           129,
           686,
           973,
           83,
           21,
           458,
           538,
           706,
           848,
           381,
           747,
           439,
           603,
           988,
           20,
           302,
           975,
           868,
           954,
           83,
           773,
           658,
           952,
           452,
           386,
           506,
           256,
           569,
           891,
           933,
           526,
           161,
           956,
           162,
           831,
           792,
           791,
           523,
           785,
           270,
           491,
           207,
           538,
           583,
           59,
           429,
           984,
           656,
           604,
           308,
           519,
           590,
           26,
           685,
           561,
           198,
           386,
           348,
           959,
           939,
           692,
           535,
           827,
           377,
           898,
           915,
           557,
           526,
           152,
           733,
           205,
           454,
           272,
           893,
           235,
           851,
           739,
           520
          ],
          "size": [
           25.402010050251256,
           5.226130653266331,
           12.914572864321608,
           19.798994974874372,
           10.35175879396985,
           13.442211055276381,
           24.42211055276382,
           29.824120603015075,
           21.532663316582916,
           6.959798994974874,
           23.190954773869347,
           17.110552763819094,
           14.321608040201006,
           29.44723618090452,
           22.763819095477388,
           9.949748743718594,
           18.417085427135678,
           16.63316582914573,
           7.160804020100502,
           11.658291457286431,
           21.381909547738694,
           19.271356783919597,
           28.09045226130653,
           17.21105527638191,
           26.959798994974875,
           18.44221105527638,
           6.105527638190955,
           12.160804020100503,
           24.47236180904523,
           5.326633165829146,
           22.78894472361809,
           15,
           28.015075376884422,
           24.874371859296485,
           29.57286432160804,
           7.085427135678392,
           11.206030150753769,
           14.748743718592964,
           24.57286432160804,
           13.341708542713567,
           20.7286432160804,
           17.964824120603016,
           8.366834170854272,
           27.110552763819097,
           22.21105527638191,
           26.030150753768844,
           17.43718592964824,
           25.7035175879397,
           23.190954773869347,
           16.90954773869347,
           19.84924623115578,
           10.527638190954775,
           29.798994974874372,
           14.271356783919597,
           28.417085427135678,
           29.92462311557789,
           15.025125628140703,
           16.05527638190955,
           17.236180904522612,
           20.376884422110553,
           11.78391959798995,
           18.14070351758794,
           8.919597989949748,
           8.743718592964823,
           29.92462311557789,
           20.50251256281407,
           9.64824120603015,
           25.35175879396985,
           7.386934673366834,
           8.21608040201005,
           25.150753768844222,
           9.22110552763819,
           28.44221105527638,
           29.69849246231156,
           9.522613065326635,
           29.623115577889447,
           14.070351758793969,
           5.9045226130653266,
           18.165829145728644,
           27.236180904522612,
           17.412060301507537,
           17.889447236180903,
           13.693467336683417,
           29.597989949748744,
           28.065326633165828,
           14.899497487437186,
           23.065326633165828,
           8.969849246231156,
           5.326633165829146,
           17.311557788944725,
           15.62814070351759,
           7.638190954773869,
           27.386934673366834,
           16.231155778894472,
           12.738693467336685,
           23.492462311557787,
           9.195979899497488,
           18.64321608040201,
           15.326633165829145,
           11.231155778894472,
           23.99497487437186,
           24.547738693467338,
           8.467336683417086,
           11.809045226130653,
           15.376884422110551,
           20.201005025125628,
           23.492462311557787,
           27.311557788944725,
           5.9045226130653266,
           25.376884422110553,
           5.653266331658291,
           28.99497487437186,
           16.90954773869347,
           12.914572864321608,
           11.08040201005025,
           23.718592964824122,
           22.43718592964824,
           11.758793969849247,
           15.979899497487438,
           23.718592964824122,
           10.92964824120603,
           14.396984924623116,
           11.608040201005025,
           28.190954773869347,
           28.065326633165828,
           13.944723618090453,
           13.467336683417086,
           14.698492462311558,
           19.42211055276382,
           29.798994974874372,
           22.236180904522612,
           5,
           15.703517587939698,
           8.492462311557789,
           14.371859296482413,
           21.758793969849243,
           13.065326633165828,
           8.592964824120603,
           28.99497487437186,
           12.286432160804019,
           21.633165829145728,
           15.77889447236181,
           22.63819095477387,
           28.768844221105528,
           29.42211055276382,
           19.62311557788945,
           14.949748743718594,
           25.452261306532662,
           27.261306532663315,
           13.5678391959799,
           29.14572864321608,
           8.442211055276381,
           9.623115577889447,
           25.150753768844222,
           6.457286432160804,
           29.974874371859297,
           28.517587939698494,
           14.472361809045227,
           22.763819095477388,
           25.201005025125628,
           15.979899497487438,
           12.939698492462313,
           12.512562814070352,
           13.5678391959799,
           5.201005025125628,
           6.482412060301508,
           26.155778894472363,
           10.603015075376884,
           8.768844221105528,
           22.78894472361809,
           19.095477386934675,
           24.321608040201006,
           19.271356783919597,
           19.597989949748744,
           21.507537688442213,
           26.55778894472362,
           19.371859296482413,
           12.71356783919598,
           27.160804020100503,
           11.030150753768844,
           17.311557788944725,
           14.120603015075377,
           13.21608040201005,
           7.613065326633166,
           10.603015075376884,
           25.65326633165829,
           10.402010050251256,
           28.467336683417088,
           23.84422110552764,
           17.63819095477387,
           11.4321608040201,
           27.236180904522612,
           24.371859296482413,
           17.914572864321606,
           24.34673366834171,
           6.28140703517588,
           6.105527638190955,
           23.190954773869347,
           22.236180904522612,
           18.015075376884422,
           7.4120603015075375,
           5.42713567839196,
           27.286432160804022,
           23.84422110552764,
           19.321608040201006,
           27.311557788944725,
           17.236180904522612,
           15.452261306532664,
           22.26130653266332,
           26.281407035175878,
           6.482412060301508,
           8.5678391959799,
           10.35175879396985,
           5,
           8.944723618090453,
           23.492462311557787,
           30,
           24.547738693467338,
           7.939698492462312,
           27.36180904522613,
           7.160804020100502,
           13.190954773869347,
           19.49748743718593,
           27.78894472361809,
           13.894472361809045,
           20.251256281407038,
           11.633165829145728,
           20.42713567839196,
           28.844221105527637,
           13.040201005025125,
           20.879396984924625,
           29.748743718592962,
           18.517587939698494,
           21.231155778894472,
           9.824120603015075,
           28.065326633165828,
           23.467336683417084,
           13.266331658291458,
           9.195979899497488,
           18.015075376884422,
           16.55778894472362,
           5.92964824120603,
           18.417085427135678,
           11.482412060301508,
           14.849246231155778,
           28.919597989949747,
           10.603015075376884,
           29.64824120603015,
           8.040201005025125,
           29.42211055276382,
           5.8793969849246235,
           13.165829145728644,
           11.231155778894472,
           27.56281407035176,
           9.34673366834171,
           20.050251256281406,
           27.889447236180903,
           16.331658291457288,
           5.8542713567839195,
           12.8643216080402,
           22.21105527638191,
           29.371859296482413,
           24.924623115577887,
           29.170854271356784,
           29.371859296482413,
           19.824120603015075,
           7.788944723618091,
           5.92964824120603,
           12.487437185929647,
           10.552763819095478,
           12.914572864321608,
           13.693467336683417,
           7.814070351758794,
           22.462311557788944,
           13.040201005025125,
           19.195979899497488,
           5.92964824120603,
           26.683417085427138,
           5.92964824120603,
           26.50753768844221,
           29.371859296482413,
           23.743718592964825,
           12.185929648241206,
           11.507537688442211,
           10.35175879396985,
           8.618090452261306,
           13.366834170854272,
           9.145728643216081,
           7.236180904522613,
           13.793969849246231,
           19.271356783919597,
           19.271356783919597,
           25.427135678391963,
           22.035175879396984,
           24.547738693467338,
           14.045226130653267,
           18.919597989949747,
           13.592964824120603,
           22.33668341708543,
           9.195979899497488,
           13.869346733668342,
           9.72361809045226,
           21.683417085427134,
           15.527638190954775,
           22.51256281407035,
           5.100502512562814,
           8.266331658291458,
           23.693467336683415,
           18.919597989949747,
           25.678391959798994,
           24.045226130653266,
           5.703517587939698,
           18.366834170854272,
           15.62814070351759,
           14.824120603015075,
           21.809045226130653,
           14.045226130653267,
           15.904522613065327,
           21.758793969849243,
           18.768844221105528,
           28.21608040201005,
           6.984924623115578,
           13.869346733668342,
           11.407035175879397,
           22.964824120603016,
           19.723618090452263,
           29.77386934673367,
           18.09045226130653,
           12.336683417085426,
           29.095477386934675,
           10.552763819095478,
           18.115577889447238,
           6.080402010050252,
           21.683417085427134,
           7.763819095477388,
           10.77889447236181,
           5.351758793969849,
           13.969849246231156,
           10.527638190954775,
           26.683417085427138,
           22.51256281407035,
           16.180904522613066,
           26.4321608040201,
           14.095477386934673,
           21.884422110552762,
           13.115577889447236,
           16.65829145728643,
           15.326633165829145,
           16.35678391959799,
           19.64824120603015,
           10.77889447236181,
           10.552763819095478,
           29.899497487437188,
           25.804020100502512,
           15.276381909547737,
           19.2964824120603,
           13.341708542713567,
           10.50251256281407,
           5.8542713567839195,
           29.77386934673367,
           11.909547738693467,
           9.849246231155778,
           27.939698492462313,
           26.633165829145728,
           17.085427135678394,
           11.00502512562814,
           13.065326633165828,
           23.291457286432163,
           9.748743718592966,
           5.351758793969849,
           18.09045226130653,
           27.98994974874372,
           15,
           27.688442211055275,
           27.185929648241206,
           22.63819095477387,
           5.477386934673367,
           16.834170854271356,
           7.939698492462312,
           10.201005025125628,
           12.613065326633166,
           11.708542713567839,
           22.613065326633166,
           22.185929648241206,
           12.085427135678392,
           22.914572864321606,
           21.90954773869347,
           24.09547738693467,
           10.628140703517587,
           28.743718592964825,
           14.49748743718593,
           16.482412060301506,
           5.100502512562814,
           5.653266331658291,
           27.71356783919598,
           5.7537688442211055,
           21.155778894472363,
           27.01005025125628,
           6.909547738693467,
           28.241206030150753,
           28.71859296482412,
           16.457286432160807,
           19.246231155778894,
           29.623115577889447,
           18.44221105527638,
           17.035175879396984,
           15.728643216080403,
           23.467336683417084,
           12.085427135678392,
           17.889447236180903,
           29.472361809045225,
           7.4120603015075375,
           14.899497487437186,
           17.21105527638191,
           5.9045226130653266,
           11.733668341708544,
           27.21105527638191,
           24.949748743718594,
           8.869346733668342,
           6.809045226130653,
           27.135678391959797,
           25.025125628140703,
           8.190954773869347,
           22.185929648241206,
           29.396984924623116,
           7.035175879396984,
           5.477386934673367,
           16.457286432160807,
           18.467336683417088,
           22.68844221105528,
           26.25628140703518,
           14.522613065326633,
           23.718592964824122,
           15.979899497487438,
           20.100502512562812,
           29.77386934673367,
           5.452261306532663,
           12.537688442211055,
           29.44723618090452,
           26.758793969849247,
           28.919597989949747,
           7.035175879396984,
           24.371859296482413,
           21.482412060301506,
           28.869346733668344,
           16.30653266331658,
           14.64824120603015,
           17.66331658291457,
           11.381909547738694,
           19.246231155778894,
           27.336683417085425,
           28.391959798994975,
           18.165829145728644,
           8.99497487437186,
           28.969849246231156,
           9.020100502512562,
           25.829145728643216,
           24.849246231155778,
           24.824120603015075,
           18.09045226130653,
           24.673366834170857,
           11.733668341708544,
           17.28643216080402,
           10.150753768844222,
           18.467336683417088,
           19.597989949748744,
           6.432160804020101,
           15.728643216080403,
           29.673366834170853,
           21.4321608040201,
           20.12562814070352,
           12.688442211055277,
           17.98994974874372,
           19.77386934673367,
           5.603015075376884,
           22.160804020100503,
           19.045226130653266,
           9.924623115577889,
           14.64824120603015,
           13.693467336683417,
           29.045226130653266,
           28.542713567839197,
           22.33668341708543,
           18.391959798994975,
           25.728643216080403,
           14.42211055276382,
           27.512562814070353,
           27.939698492462313,
           18.94472361809045,
           18.165829145728644,
           8.768844221105528,
           23.366834170854272,
           10.100502512562814,
           16.35678391959799,
           11.78391959798995,
           27.386934673366834,
           10.854271356783919,
           26.331658291457288,
           23.517587939698494,
           18.015075376884422
          ]
         },
         "mode": "markers",
         "type": "scattergeo"
        }
       ],
       "layout": {
        "geo": {
         "center": {
          "lat": 39.5,
          "lon": -8
         },
         "landcolor": "rgb(217, 217, 217)",
         "projection": {
          "scale": 25.5
         },
         "showland": true
        },
        "margin": {
         "b": 0,
         "l": 0,
         "r": 0,
         "t": 0
        },
        "template": {
         "data": {
          "bar": [
           {
            "error_x": {
             "color": "#2a3f5f"
            },
            "error_y": {
             "color": "#2a3f5f"
            },
            "marker": {
             "line": {
              "color": "#E5ECF6",
              "width": 0.5
             },
             "pattern": {
              "fillmode": "overlay",
              "size": 10,
              "solidity": 0.2
             }
            },
            "type": "bar"
           }
          ],
          "barpolar": [
           {
            "marker": {
             "line": {
              "color": "#E5ECF6",
              "width": 0.5
             },
             "pattern": {
              "fillmode": "overlay",
              "size": 10,
              "solidity": 0.2
             }
            },
            "type": "barpolar"
           }
          ],
          "carpet": [
           {
            "aaxis": {
             "endlinecolor": "#2a3f5f",
             "gridcolor": "white",
             "linecolor": "white",
             "minorgridcolor": "white",
             "startlinecolor": "#2a3f5f"
            },
            "baxis": {
             "endlinecolor": "#2a3f5f",
             "gridcolor": "white",
             "linecolor": "white",
             "minorgridcolor": "white",
             "startlinecolor": "#2a3f5f"
            },
            "type": "carpet"
           }
          ],
          "choropleth": [
           {
            "colorbar": {
             "outlinewidth": 0,
             "ticks": ""
            },
            "type": "choropleth"
           }
          ],
          "contour": [
           {
            "colorbar": {
             "outlinewidth": 0,
             "ticks": ""
            },
            "colorscale": [
             [
              0,
              "#0d0887"
             ],
             [
              0.1111111111111111,
              "#46039f"
             ],
             [
              0.2222222222222222,
              "#7201a8"
             ],
             [
              0.3333333333333333,
              "#9c179e"
             ],
             [
              0.4444444444444444,
              "#bd3786"
             ],
             [
              0.5555555555555556,
              "#d8576b"
             ],
             [
              0.6666666666666666,
              "#ed7953"
             ],
             [
              0.7777777777777778,
              "#fb9f3a"
             ],
             [
              0.8888888888888888,
              "#fdca26"
             ],
             [
              1,
              "#f0f921"
             ]
            ],
            "type": "contour"
           }
          ],
          "contourcarpet": [
           {
            "colorbar": {
             "outlinewidth": 0,
             "ticks": ""
            },
            "type": "contourcarpet"
           }
          ],
          "heatmap": [
           {
            "colorbar": {
             "outlinewidth": 0,
             "ticks": ""
            },
            "colorscale": [
             [
              0,
              "#0d0887"
             ],
             [
              0.1111111111111111,
              "#46039f"
             ],
             [
              0.2222222222222222,
              "#7201a8"
             ],
             [
              0.3333333333333333,
              "#9c179e"
             ],
             [
              0.4444444444444444,
              "#bd3786"
             ],
             [
              0.5555555555555556,
              "#d8576b"
             ],
             [
              0.6666666666666666,
              "#ed7953"
             ],
             [
              0.7777777777777778,
              "#fb9f3a"
             ],
             [
              0.8888888888888888,
              "#fdca26"
             ],
             [
              1,
              "#f0f921"
             ]
            ],
            "type": "heatmap"
           }
          ],
          "heatmapgl": [
           {
            "colorbar": {
             "outlinewidth": 0,
             "ticks": ""
            },
            "colorscale": [
             [
              0,
              "#0d0887"
             ],
             [
              0.1111111111111111,
              "#46039f"
             ],
             [
              0.2222222222222222,
              "#7201a8"
             ],
             [
              0.3333333333333333,
              "#9c179e"
             ],
             [
              0.4444444444444444,
              "#bd3786"
             ],
             [
              0.5555555555555556,
              "#d8576b"
             ],
             [
              0.6666666666666666,
              "#ed7953"
             ],
             [
              0.7777777777777778,
              "#fb9f3a"
             ],
             [
              0.8888888888888888,
              "#fdca26"
             ],
             [
              1,
              "#f0f921"
             ]
            ],
            "type": "heatmapgl"
           }
          ],
          "histogram": [
           {
            "marker": {
             "pattern": {
              "fillmode": "overlay",
              "size": 10,
              "solidity": 0.2
             }
            },
            "type": "histogram"
           }
          ],
          "histogram2d": [
           {
            "colorbar": {
             "outlinewidth": 0,
             "ticks": ""
            },
            "colorscale": [
             [
              0,
              "#0d0887"
             ],
             [
              0.1111111111111111,
              "#46039f"
             ],
             [
              0.2222222222222222,
              "#7201a8"
             ],
             [
              0.3333333333333333,
              "#9c179e"
             ],
             [
              0.4444444444444444,
              "#bd3786"
             ],
             [
              0.5555555555555556,
              "#d8576b"
             ],
             [
              0.6666666666666666,
              "#ed7953"
             ],
             [
              0.7777777777777778,
              "#fb9f3a"
             ],
             [
              0.8888888888888888,
              "#fdca26"
             ],
             [
              1,
              "#f0f921"
             ]
            ],
            "type": "histogram2d"
           }
          ],
          "histogram2dcontour": [
           {
            "colorbar": {
             "outlinewidth": 0,
             "ticks": ""
            },
            "colorscale": [
             [
              0,
              "#0d0887"
             ],
             [
              0.1111111111111111,
              "#46039f"
             ],
             [
              0.2222222222222222,
              "#7201a8"
             ],
             [
              0.3333333333333333,
              "#9c179e"
             ],
             [
              0.4444444444444444,
              "#bd3786"
             ],
             [
              0.5555555555555556,
              "#d8576b"
             ],
             [
              0.6666666666666666,
              "#ed7953"
             ],
             [
              0.7777777777777778,
              "#fb9f3a"
             ],
             [
              0.8888888888888888,
              "#fdca26"
             ],
             [
              1,
              "#f0f921"
             ]
            ],
            "type": "histogram2dcontour"
           }
          ],
          "mesh3d": [
           {
            "colorbar": {
             "outlinewidth": 0,
             "ticks": ""
            },
            "type": "mesh3d"
           }
          ],
          "parcoords": [
           {
            "line": {
             "colorbar": {
              "outlinewidth": 0,
              "ticks": ""
             }
            },
            "type": "parcoords"
           }
          ],
          "pie": [
           {
            "automargin": true,
            "type": "pie"
           }
          ],
          "scatter": [
           {
            "fillpattern": {
             "fillmode": "overlay",
             "size": 10,
             "solidity": 0.2
            },
            "type": "scatter"
           }
          ],
          "scatter3d": [
           {
            "line": {
             "colorbar": {
              "outlinewidth": 0,
              "ticks": ""
             }
            },
            "marker": {
             "colorbar": {
              "outlinewidth": 0,
              "ticks": ""
             }
            },
            "type": "scatter3d"
           }
          ],
          "scattercarpet": [
           {
            "marker": {
             "colorbar": {
              "outlinewidth": 0,
              "ticks": ""
             }
            },
            "type": "scattercarpet"
           }
          ],
          "scattergeo": [
           {
            "marker": {
             "colorbar": {
              "outlinewidth": 0,
              "ticks": ""
             }
            },
            "type": "scattergeo"
           }
          ],
          "scattergl": [
           {
            "marker": {
             "colorbar": {
              "outlinewidth": 0,
              "ticks": ""
             }
            },
            "type": "scattergl"
           }
          ],
          "scattermapbox": [
           {
            "marker": {
             "colorbar": {
              "outlinewidth": 0,
              "ticks": ""
             }
            },
            "type": "scattermapbox"
           }
          ],
          "scatterpolar": [
           {
            "marker": {
             "colorbar": {
              "outlinewidth": 0,
              "ticks": ""
             }
            },
            "type": "scatterpolar"
           }
          ],
          "scatterpolargl": [
           {
            "marker": {
             "colorbar": {
              "outlinewidth": 0,
              "ticks": ""
             }
            },
            "type": "scatterpolargl"
           }
          ],
          "scatterternary": [
           {
            "marker": {
             "colorbar": {
              "outlinewidth": 0,
              "ticks": ""
             }
            },
            "type": "scatterternary"
           }
          ],
          "surface": [
           {
            "colorbar": {
             "outlinewidth": 0,
             "ticks": ""
            },
            "colorscale": [
             [
              0,
              "#0d0887"
             ],
             [
              0.1111111111111111,
              "#46039f"
             ],
             [
              0.2222222222222222,
              "#7201a8"
             ],
             [
              0.3333333333333333,
              "#9c179e"
             ],
             [
              0.4444444444444444,
              "#bd3786"
             ],
             [
              0.5555555555555556,
              "#d8576b"
             ],
             [
              0.6666666666666666,
              "#ed7953"
             ],
             [
              0.7777777777777778,
              "#fb9f3a"
             ],
             [
              0.8888888888888888,
              "#fdca26"
             ],
             [
              1,
              "#f0f921"
             ]
            ],
            "type": "surface"
           }
          ],
          "table": [
           {
            "cells": {
             "fill": {
              "color": "#EBF0F8"
             },
             "line": {
              "color": "white"
             }
            },
            "header": {
             "fill": {
              "color": "#C8D4E3"
             },
             "line": {
              "color": "white"
             }
            },
            "type": "table"
           }
          ]
         },
         "layout": {
          "annotationdefaults": {
           "arrowcolor": "#2a3f5f",
           "arrowhead": 0,
           "arrowwidth": 1
          },
          "autotypenumbers": "strict",
          "coloraxis": {
           "colorbar": {
            "outlinewidth": 0,
            "ticks": ""
           }
          },
          "colorscale": {
           "diverging": [
            [
             0,
             "#8e0152"
            ],
            [
             0.1,
             "#c51b7d"
            ],
            [
             0.2,
             "#de77ae"
            ],
            [
             0.3,
             "#f1b6da"
            ],
            [
             0.4,
             "#fde0ef"
            ],
            [
             0.5,
             "#f7f7f7"
            ],
            [
             0.6,
             "#e6f5d0"
            ],
            [
             0.7,
             "#b8e186"
            ],
            [
             0.8,
             "#7fbc41"
            ],
            [
             0.9,
             "#4d9221"
            ],
            [
             1,
             "#276419"
            ]
           ],
           "sequential": [
            [
             0,
             "#0d0887"
            ],
            [
             0.1111111111111111,
             "#46039f"
            ],
            [
             0.2222222222222222,
             "#7201a8"
            ],
            [
             0.3333333333333333,
             "#9c179e"
            ],
            [
             0.4444444444444444,
             "#bd3786"
            ],
            [
             0.5555555555555556,
             "#d8576b"
            ],
            [
             0.6666666666666666,
             "#ed7953"
            ],
            [
             0.7777777777777778,
             "#fb9f3a"
            ],
            [
             0.8888888888888888,
             "#fdca26"
            ],
            [
             1,
             "#f0f921"
            ]
           ],
           "sequentialminus": [
            [
             0,
             "#0d0887"
            ],
            [
             0.1111111111111111,
             "#46039f"
            ],
            [
             0.2222222222222222,
             "#7201a8"
            ],
            [
             0.3333333333333333,
             "#9c179e"
            ],
            [
             0.4444444444444444,
             "#bd3786"
            ],
            [
             0.5555555555555556,
             "#d8576b"
            ],
            [
             0.6666666666666666,
             "#ed7953"
            ],
            [
             0.7777777777777778,
             "#fb9f3a"
            ],
            [
             0.8888888888888888,
             "#fdca26"
            ],
            [
             1,
             "#f0f921"
            ]
           ]
          },
          "colorway": [
           "#636efa",
           "#EF553B",
           "#00cc96",
           "#ab63fa",
           "#FFA15A",
           "#19d3f3",
           "#FF6692",
           "#B6E880",
           "#FF97FF",
           "#FECB52"
          ],
          "font": {
           "color": "#2a3f5f"
          },
          "geo": {
           "bgcolor": "white",
           "lakecolor": "white",
           "landcolor": "#E5ECF6",
           "showlakes": true,
           "showland": true,
           "subunitcolor": "white"
          },
          "hoverlabel": {
           "align": "left"
          },
          "hovermode": "closest",
          "mapbox": {
           "style": "light"
          },
          "paper_bgcolor": "white",
          "plot_bgcolor": "#E5ECF6",
          "polar": {
           "angularaxis": {
            "gridcolor": "white",
            "linecolor": "white",
            "ticks": ""
           },
           "bgcolor": "#E5ECF6",
           "radialaxis": {
            "gridcolor": "white",
            "linecolor": "white",
            "ticks": ""
           }
          },
          "scene": {
           "xaxis": {
            "backgroundcolor": "#E5ECF6",
            "gridcolor": "white",
            "gridwidth": 2,
            "linecolor": "white",
            "showbackground": true,
            "ticks": "",
            "zerolinecolor": "white"
           },
           "yaxis": {
            "backgroundcolor": "#E5ECF6",
            "gridcolor": "white",
            "gridwidth": 2,
            "linecolor": "white",
            "showbackground": true,
            "ticks": "",
            "zerolinecolor": "white"
           },
           "zaxis": {
            "backgroundcolor": "#E5ECF6",
            "gridcolor": "white",
            "gridwidth": 2,
            "linecolor": "white",
            "showbackground": true,
            "ticks": "",
            "zerolinecolor": "white"
           }
          },
          "shapedefaults": {
           "line": {
            "color": "#2a3f5f"
           }
          },
          "ternary": {
           "aaxis": {
            "gridcolor": "white",
            "linecolor": "white",
            "ticks": ""
           },
           "baxis": {
            "gridcolor": "white",
            "linecolor": "white",
            "ticks": ""
           },
           "bgcolor": "#E5ECF6",
           "caxis": {
            "gridcolor": "white",
            "linecolor": "white",
            "ticks": ""
           }
          },
          "title": {
           "x": 0.05
          },
          "xaxis": {
           "automargin": true,
           "gridcolor": "white",
           "linecolor": "white",
           "ticks": "",
           "title": {
            "standoff": 15
           },
           "zerolinecolor": "white",
           "zerolinewidth": 2
          },
          "yaxis": {
           "automargin": true,
           "gridcolor": "white",
           "linecolor": "white",
           "ticks": "",
           "title": {
            "standoff": 15
           },
           "zerolinecolor": "white",
           "zerolinewidth": 2
          }
         }
        },
        "title": {
         "text": "Purchases Scattergeo Map"
        }
       }
      }
     },
     "metadata": {},
     "output_type": "display_data"
    }
   ],
   "source": [
    "# reading from data own data\n",
    "\n",
    "df_pt = pd.read_csv('data/data_dot_map.csv')\n",
    "print(df_pt)\n",
    "\n",
    "# In order to scale bubble we need to normalize values between some min and max\n",
    "min_size = 5\n",
    "max_size = 30\n",
    "min_purch = df_pt['Purchases'].min()\n",
    "max_purch = df_pt['Purchases'].max()\n",
    "\n",
    "# min/max normalization\n",
    "df_pt['marker_size'] = min_size + (df_pt['Purchases'] - min_purch) / (max_purch - min_purch) * (max_size - min_size)\n",
    "\n",
    "fig = go.Figure(data=go.Scattergeo(\n",
    "        lon = df_pt['lon'],\n",
    "        lat = df_pt['lat'],\n",
    "        mode = 'markers',\n",
    "        marker_color = df_pt['Purchases'],\n",
    "        marker_size = df_pt['marker_size']\n",
    "))\n",
    "\n",
    "fig.update_layout(\n",
    "    title='Purchases - Proportional Symbol Map',\n",
    "    geo=dict(\n",
    "        center=dict(lat=39.5, lon=-8),\n",
    "        projection_scale=25.5,\n",
    "        showland=True,\n",
    "        landcolor=\"rgb(217, 217, 217)\"\n",
    "        \n",
    "    ),\n",
    "    margin={\"r\":0,\"t\":0,\"l\":0,\"b\":0}\n",
    ")\n",
    "\n",
    "fig.show()"
   ]
  }
 ],
 "metadata": {
  "kernelspec": {
   "display_name": ".venv",
   "language": "python",
   "name": "python3"
  },
  "language_info": {
   "codemirror_mode": {
    "name": "ipython",
    "version": 3
   },
   "file_extension": ".py",
   "mimetype": "text/x-python",
   "name": "python",
   "nbconvert_exporter": "python",
   "pygments_lexer": "ipython3",
   "version": "3.12.3"
  }
 },
 "nbformat": 4,
 "nbformat_minor": 2
}
